{
  "nbformat": 4,
  "nbformat_minor": 0,
  "metadata": {
    "colab": {
      "provenance": []
    },
    "kernelspec": {
      "name": "python3",
      "display_name": "Python 3"
    },
    "language_info": {
      "name": "python"
    },
    "widgets": {
      "application/vnd.jupyter.widget-state+json": {
        "32de2de81a0943f591649f799bc0dde5": {
          "model_module": "@jupyter-widgets/controls",
          "model_name": "ButtonModel",
          "model_module_version": "1.5.0",
          "state": {
            "_dom_classes": [],
            "_model_module": "@jupyter-widgets/controls",
            "_model_module_version": "1.5.0",
            "_model_name": "ButtonModel",
            "_view_count": null,
            "_view_module": "@jupyter-widgets/controls",
            "_view_module_version": "1.5.0",
            "_view_name": "ButtonView",
            "button_style": "danger",
            "description": "Request a quote",
            "disabled": false,
            "icon": "",
            "layout": "IPY_MODEL_0f0b810e9a53499391cfd27c7a095f40",
            "style": "IPY_MODEL_0c0531f729774f408879314f4fe708ae",
            "tooltip": ""
          }
        },
        "0f0b810e9a53499391cfd27c7a095f40": {
          "model_module": "@jupyter-widgets/base",
          "model_name": "LayoutModel",
          "model_module_version": "1.2.0",
          "state": {
            "_model_module": "@jupyter-widgets/base",
            "_model_module_version": "1.2.0",
            "_model_name": "LayoutModel",
            "_view_count": null,
            "_view_module": "@jupyter-widgets/base",
            "_view_module_version": "1.2.0",
            "_view_name": "LayoutView",
            "align_content": null,
            "align_items": null,
            "align_self": null,
            "border": null,
            "bottom": null,
            "display": null,
            "flex": null,
            "flex_flow": null,
            "grid_area": null,
            "grid_auto_columns": null,
            "grid_auto_flow": null,
            "grid_auto_rows": null,
            "grid_column": null,
            "grid_gap": null,
            "grid_row": null,
            "grid_template_areas": null,
            "grid_template_columns": null,
            "grid_template_rows": null,
            "height": null,
            "justify_content": null,
            "justify_items": null,
            "left": null,
            "margin": null,
            "max_height": null,
            "max_width": null,
            "min_height": null,
            "min_width": null,
            "object_fit": null,
            "object_position": null,
            "order": null,
            "overflow": null,
            "overflow_x": null,
            "overflow_y": null,
            "padding": null,
            "right": null,
            "top": null,
            "visibility": null,
            "width": null
          }
        },
        "0c0531f729774f408879314f4fe708ae": {
          "model_module": "@jupyter-widgets/controls",
          "model_name": "ButtonStyleModel",
          "model_module_version": "1.5.0",
          "state": {
            "_model_module": "@jupyter-widgets/controls",
            "_model_module_version": "1.5.0",
            "_model_name": "ButtonStyleModel",
            "_view_count": null,
            "_view_module": "@jupyter-widgets/base",
            "_view_module_version": "1.2.0",
            "_view_name": "StyleView",
            "button_color": null,
            "font_weight": ""
          }
        }
      }
    }
  },
  "cells": [
    {
      "cell_type": "code",
      "execution_count": 25,
      "metadata": {
        "id": "12l-SZ6Tx2O2"
      },
      "outputs": [],
      "source": [
        "%pip install -Uq upgini catboost"
      ]
    },
    {
      "cell_type": "code",
      "source": [
        "from os.path import exists\n",
        "import pandas as pd\n",
        "\n",
        "df_path = \"train.csv.zip\" if exists(\"train.csv.zip\") else \"https://github.com/upgini/upgini/raw/main/notebooks/train.csv.zip\"\n"
      ],
      "metadata": {
        "id": "-Rof1bODyKfK"
      },
      "execution_count": 27,
      "outputs": []
    },
    {
      "cell_type": "code",
      "source": [
        "df = pd.read_csv(df_path)\n",
        "df = df.sample(n = 19_000, random_state = 0)\n",
        "df[\"store\"] = df[\"store\"].astype(str)\n",
        "df[\"item\"] = df[\"item\"].astype(str)\n",
        "df[\"date\"] = pd.to_datetime(df[\"date\"])\n",
        "df.sort_values(\"date\", inplace = True)\n",
        "df.reset_index(inplace = True, drop = True)\n",
        "df.head()"
      ],
      "metadata": {
        "colab": {
          "base_uri": "https://localhost:8080/",
          "height": 206
        },
        "id": "VphNsHZb20U6",
        "outputId": "b23be624-3409-49ec-8c02-6ad21f802640"
      },
      "execution_count": 28,
      "outputs": [
        {
          "output_type": "execute_result",
          "data": {
            "text/plain": [
              "        date store item  sales\n",
              "0 2013-01-01     7    5      5\n",
              "1 2013-01-01     4    9     19\n",
              "2 2013-01-01     1   33     37\n",
              "3 2013-01-01     3   41     14\n",
              "4 2013-01-01     5   24     26"
            ],
            "text/html": [
              "\n",
              "  <div id=\"df-53090d90-e25b-46b4-b382-6ba730761486\" class=\"colab-df-container\">\n",
              "    <div>\n",
              "<style scoped>\n",
              "    .dataframe tbody tr th:only-of-type {\n",
              "        vertical-align: middle;\n",
              "    }\n",
              "\n",
              "    .dataframe tbody tr th {\n",
              "        vertical-align: top;\n",
              "    }\n",
              "\n",
              "    .dataframe thead th {\n",
              "        text-align: right;\n",
              "    }\n",
              "</style>\n",
              "<table border=\"1\" class=\"dataframe\">\n",
              "  <thead>\n",
              "    <tr style=\"text-align: right;\">\n",
              "      <th></th>\n",
              "      <th>date</th>\n",
              "      <th>store</th>\n",
              "      <th>item</th>\n",
              "      <th>sales</th>\n",
              "    </tr>\n",
              "  </thead>\n",
              "  <tbody>\n",
              "    <tr>\n",
              "      <th>0</th>\n",
              "      <td>2013-01-01</td>\n",
              "      <td>7</td>\n",
              "      <td>5</td>\n",
              "      <td>5</td>\n",
              "    </tr>\n",
              "    <tr>\n",
              "      <th>1</th>\n",
              "      <td>2013-01-01</td>\n",
              "      <td>4</td>\n",
              "      <td>9</td>\n",
              "      <td>19</td>\n",
              "    </tr>\n",
              "    <tr>\n",
              "      <th>2</th>\n",
              "      <td>2013-01-01</td>\n",
              "      <td>1</td>\n",
              "      <td>33</td>\n",
              "      <td>37</td>\n",
              "    </tr>\n",
              "    <tr>\n",
              "      <th>3</th>\n",
              "      <td>2013-01-01</td>\n",
              "      <td>3</td>\n",
              "      <td>41</td>\n",
              "      <td>14</td>\n",
              "    </tr>\n",
              "    <tr>\n",
              "      <th>4</th>\n",
              "      <td>2013-01-01</td>\n",
              "      <td>5</td>\n",
              "      <td>24</td>\n",
              "      <td>26</td>\n",
              "    </tr>\n",
              "  </tbody>\n",
              "</table>\n",
              "</div>\n",
              "    <div class=\"colab-df-buttons\">\n",
              "\n",
              "  <div class=\"colab-df-container\">\n",
              "    <button class=\"colab-df-convert\" onclick=\"convertToInteractive('df-53090d90-e25b-46b4-b382-6ba730761486')\"\n",
              "            title=\"Convert this dataframe to an interactive table.\"\n",
              "            style=\"display:none;\">\n",
              "\n",
              "  <svg xmlns=\"http://www.w3.org/2000/svg\" height=\"24px\" viewBox=\"0 -960 960 960\">\n",
              "    <path d=\"M120-120v-720h720v720H120Zm60-500h600v-160H180v160Zm220 220h160v-160H400v160Zm0 220h160v-160H400v160ZM180-400h160v-160H180v160Zm440 0h160v-160H620v160ZM180-180h160v-160H180v160Zm440 0h160v-160H620v160Z\"/>\n",
              "  </svg>\n",
              "    </button>\n",
              "\n",
              "  <style>\n",
              "    .colab-df-container {\n",
              "      display:flex;\n",
              "      gap: 12px;\n",
              "    }\n",
              "\n",
              "    .colab-df-convert {\n",
              "      background-color: #E8F0FE;\n",
              "      border: none;\n",
              "      border-radius: 50%;\n",
              "      cursor: pointer;\n",
              "      display: none;\n",
              "      fill: #1967D2;\n",
              "      height: 32px;\n",
              "      padding: 0 0 0 0;\n",
              "      width: 32px;\n",
              "    }\n",
              "\n",
              "    .colab-df-convert:hover {\n",
              "      background-color: #E2EBFA;\n",
              "      box-shadow: 0px 1px 2px rgba(60, 64, 67, 0.3), 0px 1px 3px 1px rgba(60, 64, 67, 0.15);\n",
              "      fill: #174EA6;\n",
              "    }\n",
              "\n",
              "    .colab-df-buttons div {\n",
              "      margin-bottom: 4px;\n",
              "    }\n",
              "\n",
              "    [theme=dark] .colab-df-convert {\n",
              "      background-color: #3B4455;\n",
              "      fill: #D2E3FC;\n",
              "    }\n",
              "\n",
              "    [theme=dark] .colab-df-convert:hover {\n",
              "      background-color: #434B5C;\n",
              "      box-shadow: 0px 1px 3px 1px rgba(0, 0, 0, 0.15);\n",
              "      filter: drop-shadow(0px 1px 2px rgba(0, 0, 0, 0.3));\n",
              "      fill: #FFFFFF;\n",
              "    }\n",
              "  </style>\n",
              "\n",
              "    <script>\n",
              "      const buttonEl =\n",
              "        document.querySelector('#df-53090d90-e25b-46b4-b382-6ba730761486 button.colab-df-convert');\n",
              "      buttonEl.style.display =\n",
              "        google.colab.kernel.accessAllowed ? 'block' : 'none';\n",
              "\n",
              "      async function convertToInteractive(key) {\n",
              "        const element = document.querySelector('#df-53090d90-e25b-46b4-b382-6ba730761486');\n",
              "        const dataTable =\n",
              "          await google.colab.kernel.invokeFunction('convertToInteractive',\n",
              "                                                    [key], {});\n",
              "        if (!dataTable) return;\n",
              "\n",
              "        const docLinkHtml = 'Like what you see? Visit the ' +\n",
              "          '<a target=\"_blank\" href=https://colab.research.google.com/notebooks/data_table.ipynb>data table notebook</a>'\n",
              "          + ' to learn more about interactive tables.';\n",
              "        element.innerHTML = '';\n",
              "        dataTable['output_type'] = 'display_data';\n",
              "        await google.colab.output.renderOutput(dataTable, element);\n",
              "        const docLink = document.createElement('div');\n",
              "        docLink.innerHTML = docLinkHtml;\n",
              "        element.appendChild(docLink);\n",
              "      }\n",
              "    </script>\n",
              "  </div>\n",
              "\n",
              "\n",
              "<div id=\"df-40f1cf7c-c7fd-412e-a59d-58131a744e69\">\n",
              "  <button class=\"colab-df-quickchart\" onclick=\"quickchart('df-40f1cf7c-c7fd-412e-a59d-58131a744e69')\"\n",
              "            title=\"Suggest charts.\"\n",
              "            style=\"display:none;\">\n",
              "\n",
              "<svg xmlns=\"http://www.w3.org/2000/svg\" height=\"24px\"viewBox=\"0 0 24 24\"\n",
              "     width=\"24px\">\n",
              "    <g>\n",
              "        <path d=\"M19 3H5c-1.1 0-2 .9-2 2v14c0 1.1.9 2 2 2h14c1.1 0 2-.9 2-2V5c0-1.1-.9-2-2-2zM9 17H7v-7h2v7zm4 0h-2V7h2v10zm4 0h-2v-4h2v4z\"/>\n",
              "    </g>\n",
              "</svg>\n",
              "  </button>\n",
              "\n",
              "<style>\n",
              "  .colab-df-quickchart {\n",
              "      --bg-color: #E8F0FE;\n",
              "      --fill-color: #1967D2;\n",
              "      --hover-bg-color: #E2EBFA;\n",
              "      --hover-fill-color: #174EA6;\n",
              "      --disabled-fill-color: #AAA;\n",
              "      --disabled-bg-color: #DDD;\n",
              "  }\n",
              "\n",
              "  [theme=dark] .colab-df-quickchart {\n",
              "      --bg-color: #3B4455;\n",
              "      --fill-color: #D2E3FC;\n",
              "      --hover-bg-color: #434B5C;\n",
              "      --hover-fill-color: #FFFFFF;\n",
              "      --disabled-bg-color: #3B4455;\n",
              "      --disabled-fill-color: #666;\n",
              "  }\n",
              "\n",
              "  .colab-df-quickchart {\n",
              "    background-color: var(--bg-color);\n",
              "    border: none;\n",
              "    border-radius: 50%;\n",
              "    cursor: pointer;\n",
              "    display: none;\n",
              "    fill: var(--fill-color);\n",
              "    height: 32px;\n",
              "    padding: 0;\n",
              "    width: 32px;\n",
              "  }\n",
              "\n",
              "  .colab-df-quickchart:hover {\n",
              "    background-color: var(--hover-bg-color);\n",
              "    box-shadow: 0 1px 2px rgba(60, 64, 67, 0.3), 0 1px 3px 1px rgba(60, 64, 67, 0.15);\n",
              "    fill: var(--button-hover-fill-color);\n",
              "  }\n",
              "\n",
              "  .colab-df-quickchart-complete:disabled,\n",
              "  .colab-df-quickchart-complete:disabled:hover {\n",
              "    background-color: var(--disabled-bg-color);\n",
              "    fill: var(--disabled-fill-color);\n",
              "    box-shadow: none;\n",
              "  }\n",
              "\n",
              "  .colab-df-spinner {\n",
              "    border: 2px solid var(--fill-color);\n",
              "    border-color: transparent;\n",
              "    border-bottom-color: var(--fill-color);\n",
              "    animation:\n",
              "      spin 1s steps(1) infinite;\n",
              "  }\n",
              "\n",
              "  @keyframes spin {\n",
              "    0% {\n",
              "      border-color: transparent;\n",
              "      border-bottom-color: var(--fill-color);\n",
              "      border-left-color: var(--fill-color);\n",
              "    }\n",
              "    20% {\n",
              "      border-color: transparent;\n",
              "      border-left-color: var(--fill-color);\n",
              "      border-top-color: var(--fill-color);\n",
              "    }\n",
              "    30% {\n",
              "      border-color: transparent;\n",
              "      border-left-color: var(--fill-color);\n",
              "      border-top-color: var(--fill-color);\n",
              "      border-right-color: var(--fill-color);\n",
              "    }\n",
              "    40% {\n",
              "      border-color: transparent;\n",
              "      border-right-color: var(--fill-color);\n",
              "      border-top-color: var(--fill-color);\n",
              "    }\n",
              "    60% {\n",
              "      border-color: transparent;\n",
              "      border-right-color: var(--fill-color);\n",
              "    }\n",
              "    80% {\n",
              "      border-color: transparent;\n",
              "      border-right-color: var(--fill-color);\n",
              "      border-bottom-color: var(--fill-color);\n",
              "    }\n",
              "    90% {\n",
              "      border-color: transparent;\n",
              "      border-bottom-color: var(--fill-color);\n",
              "    }\n",
              "  }\n",
              "</style>\n",
              "\n",
              "  <script>\n",
              "    async function quickchart(key) {\n",
              "      const quickchartButtonEl =\n",
              "        document.querySelector('#' + key + ' button');\n",
              "      quickchartButtonEl.disabled = true;  // To prevent multiple clicks.\n",
              "      quickchartButtonEl.classList.add('colab-df-spinner');\n",
              "      try {\n",
              "        const charts = await google.colab.kernel.invokeFunction(\n",
              "            'suggestCharts', [key], {});\n",
              "      } catch (error) {\n",
              "        console.error('Error during call to suggestCharts:', error);\n",
              "      }\n",
              "      quickchartButtonEl.classList.remove('colab-df-spinner');\n",
              "      quickchartButtonEl.classList.add('colab-df-quickchart-complete');\n",
              "    }\n",
              "    (() => {\n",
              "      let quickchartButtonEl =\n",
              "        document.querySelector('#df-40f1cf7c-c7fd-412e-a59d-58131a744e69 button');\n",
              "      quickchartButtonEl.style.display =\n",
              "        google.colab.kernel.accessAllowed ? 'block' : 'none';\n",
              "    })();\n",
              "  </script>\n",
              "</div>\n",
              "    </div>\n",
              "  </div>\n"
            ]
          },
          "metadata": {},
          "execution_count": 28
        }
      ]
    },
    {
      "cell_type": "code",
      "source": [
        "train = df[df[\"date\"] < \"2017-01-01\"]\n",
        "test = df[df[\"date\"] >= \"2017-01-01\"]"
      ],
      "metadata": {
        "id": "VMyGf2wS3cDX"
      },
      "execution_count": 29,
      "outputs": []
    },
    {
      "cell_type": "code",
      "source": [
        "train_features = train.drop(columns= [\"sales\"])\n",
        "train_target = train[\"sales\"]\n",
        "test_features = test.drop(columns= [\"sales\"])\n",
        "test_target = test[\"sales\"]"
      ],
      "metadata": {
        "id": "DrvOv8aU4UHa"
      },
      "execution_count": 30,
      "outputs": []
    },
    {
      "cell_type": "markdown",
      "source": [
        "Enrich Values"
      ],
      "metadata": {
        "id": "wY2QTijE5Qu6"
      }
    },
    {
      "cell_type": "code",
      "source": [
        "from upgini import FeaturesEnricher, SearchKey\n",
        "from upgini.metadata import CVType\n",
        "\n",
        "enricher = FeaturesEnricher(\n",
        "    search_keys = {\n",
        "        \"date\": SearchKey.DATE,\n",
        "    },\n",
        "    cv = CVType.time_series\n",
        ")\n",
        "\n",
        "enricher.fit(train_features,\n",
        "             train_target,\n",
        "             eval_set = [(test_features, test_target)])"
      ],
      "metadata": {
        "colab": {
          "base_uri": "https://localhost:8080/",
          "height": 1000
        },
        "id": "PxnkILIy5T-k",
        "outputId": "166135a5-a670-43cc-b441-c5d4f2d5b98f"
      },
      "execution_count": 31,
      "outputs": [
        {
          "output_type": "display_data",
          "data": {
            "text/plain": [
              "[============================================================] 100% Finished"
            ],
            "text/html": [
              "<progress style='width:60ex' max='100' value='100'></progress>  100% Finished</br>"
            ]
          },
          "metadata": {}
        },
        {
          "output_type": "stream",
          "name": "stdout",
          "text": [
            "\n",
            "WARNING: Search started with DATE search key only\n",
            "Try to add other keys like the COUNTRY, POSTAL_CODE, PHONE NUMBER, EMAIL/HEM, IPv4 to your training dataset\n",
            "for search through all the available data sources.\n",
            "See docs https://github.com/upgini/upgini#-total-239-countries-and-up-to-41-years-of-history\n",
            "Detected task type: ModelTaskType.REGRESSION\n",
            "\n"
          ]
        },
        {
          "output_type": "display_data",
          "data": {
            "text/plain": [
              "<IPython.core.display.HTML object>"
            ],
            "text/html": [
              "<table><tr><th style='font-weight:bold'>Column name</th><th style='font-weight:bold'>Status</th><th style='font-weight:bold'>Errors</th></tr><tr><td>target</td><td style='background-color:#DAF7A6;color:black'>All valid</td><td>-</td></tr><tr><td>date</td><td style='background-color:#DAF7A6;color:black'>All valid</td><td>-</td></tr></table>"
            ]
          },
          "metadata": {}
        },
        {
          "output_type": "stream",
          "name": "stdout",
          "text": [
            "\n",
            "Running search request, search_id=7b3e230a-5682-4074-8aee-100803b743c6\n",
            "We'll send email notification once it's completed, just use your personal api_key from profile.upgini.com\n",
            "\n",
            "\u001b[92m\u001b[1m\n",
            "56 relevant feature(s) found with the search keys: ['date']\u001b[0m\n"
          ]
        },
        {
          "output_type": "display_data",
          "data": {
            "text/plain": [
              "<IPython.core.display.HTML object>"
            ],
            "text/html": [
              "<style>\n",
              "            .upgini-df thead th {\n",
              "                font-weight:bold;\n",
              "                text-align: center;\n",
              "                padding: 0.5em;\n",
              "                border-bottom: 2px solid black;\n",
              "            }\n",
              "\n",
              "            .upgini-df tbody td {\n",
              "                padding: 0.5em;\n",
              "            }\n",
              "\n",
              "            .upgini-df tbody tr:nth-child(odd) {\n",
              "                background-color: #ffffff;\n",
              "            }\n",
              "\n",
              "            .upgini-df tbody tr:nth-child(even) {\n",
              "                background-color: #f2f2f2;\n",
              "            }\n",
              "\n",
              "            .upgini-text {\n",
              "                text-align: left;\n",
              "            }\n",
              "\n",
              "            .upgini-number {\n",
              "                text-align: center;\n",
              "            }\n",
              "        </style>\n",
              "        <h2>Relevant features</h2>\n",
              "        <div style=\"display:flex; flex-direction:column; align-items:flex-end; width: fit-content;\">\n",
              "            <div style=\"text-align: right\">\n",
              "                <button onclick=navigator.clipboard.writeText(decodeURI('Feature%20name%09SHAP%20value%09Coverage%20%25%09Value%20preview%09Provider%09Source%09Feature%20type%0Af_autofe_max_1050%090.0566%09100.0%09-0.3335,%20-0.6918,%200.9577%09Upgini%09AutoFE%3A%20features%20from%20%3Ca%20href%3D%27https%3A%2F%2Fupgini.com%2F%23data_sources%27%20target%3D%27_blank%27%20rel%3D%27noopener%20noreferrer%27%3ECalendar%20data%3C%2Fa%3E%09Free%0Af_autofe_min_268%090.0505%09100.0%09-0.7624,%20-0.6918,%20-0.8786%09Upgini%09AutoFE%3A%20features%20from%20%3Ca%20href%3D%27https%3A%2F%2Fupgini.com%2F%23data_sources%27%20target%3D%27_blank%27%20rel%3D%27noopener%20noreferrer%27%3ECalendar%20data%3C%2Fa%3E%09Free%0Af_autofe_max_1129%090.0205%09100.0%090.8249,%200.6918,%20-0.7325%09Upgini%09AutoFE%3A%20features%20from%20%3Ca%20href%3D%27https%3A%2F%2Fupgini.com%2F%23data_sources%27%20target%3D%27_blank%27%20rel%3D%27noopener%20noreferrer%27%3ECalendar%20data%3C%2Fa%3E%09Free%0Af_weather_date_weather_umap_47_5123ef0a%090.0097%09100.0%095.7363,%205.3626,%204.7%09Upgini%09Weather%20%26%20climate%20normals%20data%09Premium%0Af_weather_date_weather_umap_48_b39cd0c4%090.0096%09100.0%094.5686,%204.7026,%205.4386%09Upgini%09Weather%20%26%20climate%20normals%20data%09Premium%0Af_weather_date_weather_umap_31_fa6d9a99%090.0082%09100.0%095.1327,%204.7958,%204.9119%09Upgini%09Weather%20%26%20climate%20normals%20data%09Premium%0Af_autofe_min_291%090.0053%09100.0%09-0.004,%20-0.345,%20-0.084%09Upgini%09AutoFE%3A%20features%20from%20%3Ca%20href%3D%27https%3A%2F%2Fupgini.com%2F%23data_sources%27%20target%3D%27_blank%27%20rel%3D%27noopener%20noreferrer%27%3ECalendar%20data%3C%2Fa%3E,%3Ca%20href%3D%27https%3A%2F%2Fupgini.com%2F%23data_sources%27%20target%3D%27_blank%27%20rel%3D%27noopener%20noreferrer%27%3EMarkets%20data%3C%2Fa%3E%09Free%0Af_autofe_div_1999%090.0043%09100.0%09-0.0097,%200.0088,%200.0098%09Upgini%09AutoFE%3A%20features%20from%20%3Ca%20href%3D%27https%3A%2F%2Fupgini.com%2F%23data_sources%27%20target%3D%27_blank%27%20rel%3D%27noopener%20noreferrer%27%3ECalendar%20data%3C%2Fa%3E,%3Ca%20href%3D%27https%3A%2F%2Fupgini.com%2F%23data_sources%27%20target%3D%27_blank%27%20rel%3D%27noopener%20noreferrer%27%3EMarkets%20data%3C%2Fa%3E%09Free%0Af_weather_date_weather_umap_34_c3ef5b4f%090.0028%09100.0%094.8112,%204.7247,%205.533%09Upgini%09Weather%20%26%20climate%20normals%20data%09Premium%0Af_financial_date_gold_7d_to_1y_ae310379%090.0025%09100.0%090.902,%201.0424,%200.8555%09Upgini%09Markets%20data%09Free%0Af_autofe_div_2039%090.0021%09100.0%090.3818,%201.0711,%20-1.0764%09Upgini%09AutoFE%3A%20features%20from%20%3Ca%20href%3D%27https%3A%2F%2Fupgini.com%2F%23data_sources%27%20target%3D%27_blank%27%20rel%3D%27noopener%20noreferrer%27%3ECalendar%20data%3C%2Fa%3E,%3Ca%20href%3D%27https%3A%2F%2Fupgini.com%2F%23data_sources%27%20target%3D%27_blank%27%20rel%3D%27noopener%20noreferrer%27%3EMarkets%20data%3C%2Fa%3E%09Free%0Af_weather_date_weather_pca_0_d7e0a1fc%090.0021%09100.0%09-9.1327,%2027.3565,%20-27.9907%09Upgini%09Weather%20%26%20climate%20normals%20data%09Premium%0Af_autofe_min_274%090.002%09100.0%090.5012,%20-0.9327,%20-0.6681%09Upgini%09AutoFE%3A%20features%20from%20%3Ca%20href%3D%27https%3A%2F%2Fupgini.com%2F%23data_sources%27%20target%3D%27_blank%27%20rel%3D%27noopener%20noreferrer%27%3ECalendar%20data%3C%2Fa%3E%09Free%0Af_autofe_min_312%090.001%09100.0%09-0.5794,%20-0.9778,%200.4328%09Upgini%09AutoFE%3A%20features%20from%20%3Ca%20href%3D%27https%3A%2F%2Fupgini.com%2F%23data_sources%27%20target%3D%27_blank%27%20rel%3D%27noopener%20noreferrer%27%3ECalendar%20data%3C%2Fa%3E%09Free%0Af_autofe_max_1056%090.0009%09100.0%09-0.7177,%200.7056,%200.6681%09Upgini%09AutoFE%3A%20features%20from%20%3Ca%20href%3D%27https%3A%2F%2Fupgini.com%2F%23data_sources%27%20target%3D%27_blank%27%20rel%3D%27noopener%20noreferrer%27%3ECalendar%20data%3C%2Fa%3E%09Free%0Af_autofe_div_2037%090.0008%09100.0%09-0.0043,%20-0.0049,%20-0.0027%09Upgini%09AutoFE%3A%20features%20from%20%3Ca%20href%3D%27https%3A%2F%2Fupgini.com%2F%23data_sources%27%20target%3D%27_blank%27%20rel%3D%27noopener%20noreferrer%27%3ECalendar%20data%3C%2Fa%3E,%3Ca%20href%3D%27https%3A%2F%2Fupgini.com%2F%23data_sources%27%20target%3D%27_blank%27%20rel%3D%27noopener%20noreferrer%27%3EMarkets%20data%3C%2Fa%3E%09Free%0Af_weather_date_weather_umap_7_6ef8b038%090.0008%09100.0%098.2035,%205.2604,%203.2947%09Upgini%09Weather%20%26%20climate%20normals%20data%09Premium%0Af_autofe_max_1130%090.0007%09100.0%090.4239,%200.4367,%200.6387%09Upgini%09AutoFE%3A%20features%20from%20%3Ca%20href%3D%27https%3A%2F%2Fupgini.com%2F%23data_sources%27%20target%3D%27_blank%27%20rel%3D%27noopener%20noreferrer%27%3ECalendar%20data%3C%2Fa%3E%09Free%0Af_autofe_max_1457%090.0007%09100.0%090.8406,%200.8139,%200.9069%09Upgini%09AutoFE%3A%20features%20from%20%3Ca%20href%3D%27https%3A%2F%2Fupgini.com%2F%23data_sources%27%20target%3D%27_blank%27%20rel%3D%27noopener%20noreferrer%27%3ECalendar%20data%3C%2Fa%3E,%3Ca%20href%3D%27https%3A%2F%2Fupgini.com%2F%23data_sources%27%20target%3D%27_blank%27%20rel%3D%27noopener%20noreferrer%27%3EMarkets%20data%3C%2Fa%3E%09Free%0Af_autofe_min_644%090.0006%09100.0%090.5944,%200.967,%200.966%09Upgini%09AutoFE%3A%20features%20from%20%3Ca%20href%3D%27https%3A%2F%2Fupgini.com%2F%23data_sources%27%20target%3D%27_blank%27%20rel%3D%27noopener%20noreferrer%27%3EMarkets%20data%3C%2Fa%3E%09Free%0Af_autofe_div_2038%090.0006%09100.0%09-0.1264,%20-0.9005,%201.3853%09Upgini%09AutoFE%3A%20features%20from%20%3Ca%20href%3D%27https%3A%2F%2Fupgini.com%2F%23data_sources%27%20target%3D%27_blank%27%20rel%3D%27noopener%20noreferrer%27%3ECalendar%20data%3C%2Fa%3E,%3Ca%20href%3D%27https%3A%2F%2Fupgini.com%2F%23data_sources%27%20target%3D%27_blank%27%20rel%3D%27noopener%20noreferrer%27%3EMarkets%20data%3C%2Fa%3E%09Free%0Af_autofe_div_1961%090.0006%09100.0%091.5512,%200.6394,%20-1.2631%09Upgini%09AutoFE%3A%20features%20from%20%3Ca%20href%3D%27https%3A%2F%2Fupgini.com%2F%23data_sources%27%20target%3D%27_blank%27%20rel%3D%27noopener%20noreferrer%27%3ECalendar%20data%3C%2Fa%3E,%3Ca%20href%3D%27https%3A%2F%2Fupgini.com%2F%23data_sources%27%20target%3D%27_blank%27%20rel%3D%27noopener%20noreferrer%27%3EMarkets%20data%3C%2Fa%3E%09Free%0Af_autofe_max_1089%090.0006%09100.0%091.0,%200.6235,%201.0%09Upgini%09AutoFE%3A%20features%20from%20%3Ca%20href%3D%27https%3A%2F%2Fupgini.com%2F%23data_sources%27%20target%3D%27_blank%27%20rel%3D%27noopener%20noreferrer%27%3ECalendar%20data%3C%2Fa%3E%09Free%0Af_autofe_min_300%090.0006%09100.0%09-0.71,%200.57,%20-0.81%09Upgini%09AutoFE%3A%20features%20from%20%3Ca%20href%3D%27https%3A%2F%2Fupgini.com%2F%23data_sources%27%20target%3D%27_blank%27%20rel%3D%27noopener%20noreferrer%27%3ECalendar%20data%3C%2Fa%3E,%3Ca%20href%3D%27https%3A%2F%2Fupgini.com%2F%23data_sources%27%20target%3D%27_blank%27%20rel%3D%27noopener%20noreferrer%27%3EMarkets%20data%3C%2Fa%3E%09Free%0Af_autofe_min_188%090.0006%09100.0%09-0.7818,%200.6235,%20-0.7818%09Upgini%09AutoFE%3A%20features%20from%20%3Ca%20href%3D%27https%3A%2F%2Fupgini.com%2F%23data_sources%27%20target%3D%27_blank%27%20rel%3D%27noopener%20noreferrer%27%3ECalendar%20data%3C%2Fa%3E%09Free%0Af_autofe_min_330%090.0005%09100.0%09-0.199,%200.343,%20-0.168%09Upgini%09AutoFE%3A%20features%20from%20%3Ca%20href%3D%27https%3A%2F%2Fupgini.com%2F%23data_sources%27%20target%3D%27_blank%27%20rel%3D%27noopener%20noreferrer%27%3ECalendar%20data%3C%2Fa%3E,%3Ca%20href%3D%27https%3A%2F%2Fupgini.com%2F%23data_sources%27%20target%3D%27_blank%27%20rel%3D%27noopener%20noreferrer%27%3EMarkets%20data%3C%2Fa%3E%09Free%0Af_autofe_min_269%090.0005%09100.0%090.9015,%200.3285,%200.7147%09Upgini%09AutoFE%3A%20features%20from%20%3Ca%20href%3D%27https%3A%2F%2Fupgini.com%2F%23data_sources%27%20target%3D%27_blank%27%20rel%3D%27noopener%20noreferrer%27%3ECalendar%20data%3C%2Fa%3E%09Free%0Af_autofe_max_1074%090.0005%09100.0%09-0.408,%200.265,%200.031%09Upgini%09AutoFE%3A%20features%20from%20%3Ca%20href%3D%27https%3A%2F%2Fupgini.com%2F%23data_sources%27%20target%3D%27_blank%27%20rel%3D%27noopener%20noreferrer%27%3ECalendar%20data%3C%2Fa%3E,%3Ca%20href%3D%27https%3A%2F%2Fupgini.com%2F%23data_sources%27%20target%3D%27_blank%27%20rel%3D%27noopener%20noreferrer%27%3EMarkets%20data%3C%2Fa%3E%09Free%0Af_financial_date_usd_eur_7d_to_1y_200e4902%090.0005%09100.0%091.0587,%201.1399,%201.0427%09Upgini%09Markets%20data%09Free%0Af_autofe_min_329%090.0005%09100.0%090.041,%20-0.3285,%20-0.5913%09Upgini%09AutoFE%3A%20features%20from%20%3Ca%20href%3D%27https%3A%2F%2Fupgini.com%2F%23data_sources%27%20target%3D%27_blank%27%20rel%3D%27noopener%20noreferrer%27%3ECalendar%20data%3C%2Fa%3E,%3Ca%20href%3D%27https%3A%2F%2Fupgini.com%2F%23data_sources%27%20target%3D%27_blank%27%20rel%3D%27noopener%20noreferrer%27%3EMarkets%20data%3C%2Fa%3E%09Free%0Af_autofe_min_189%090.0004%09100.0%09-0.8288,%20-0.8529,%20-0.2345%09Upgini%09AutoFE%3A%20features%20from%20%3Ca%20href%3D%27https%3A%2F%2Fupgini.com%2F%23data_sources%27%20target%3D%27_blank%27%20rel%3D%27noopener%20noreferrer%27%3ECalendar%20data%3C%2Fa%3E%09Free%0Af_financial_date_stoxx_043cbcd4%090.0004%09100.0%09356.66,%20326.54,%20372.27%09Upgini%09Markets%20data%09Free%0Af_autofe_max_1087%090.0004%09100.0%090.772,%200.711,%200.8037%09Upgini%09AutoFE%3A%20features%20from%20%3Ca%20href%3D%27https%3A%2F%2Fupgini.com%2F%23data_sources%27%20target%3D%27_blank%27%20rel%3D%27noopener%20noreferrer%27%3ECalendar%20data%3C%2Fa%3E,%3Ca%20href%3D%27https%3A%2F%2Fupgini.com%2F%23data_sources%27%20target%3D%27_blank%27%20rel%3D%27noopener%20noreferrer%27%3EMarkets%20data%3C%2Fa%3E%09Free%0Af_financial_date_usd_eur_7d_to_1y_autofe_residual_181%090.0004%09100.0%090.9797,%200.141,%200.0781%09Upgini%09AutoFE%3A%20feature%20from%20%3Ca%20href%3D%27https%3A%2F%2Fupgini.com%2F%23data_sources%27%20target%3D%27_blank%27%20rel%3D%27noopener%20noreferrer%27%3EMarkets%20data%3C%2Fa%3E%09Free%0Af_autofe_min_653%090.0003%09100.0%090.8191,%200.7302,%201.0129%09Upgini%09AutoFE%3A%20features%20from%20%3Ca%20href%3D%27https%3A%2F%2Fupgini.com%2F%23data_sources%27%20target%3D%27_blank%27%20rel%3D%27noopener%20noreferrer%27%3EMarkets%20data%3C%2Fa%3E%09Free%0Af_financial_date_nasdaq_7d_to_1y_b00bfaa7%090.0003%09100.0%091.1078,%201.1022,%201.114%09Upgini%09Markets%20data%09Free%0Af_economic_date_cbpol_umap_4_c5ce4e90%090.0003%09100.0%097.7724,%203.3844,%209.8367%09Upgini%09World%20economic%20indicators%09Free%0Af_weather_date_weather_umap_33_89bb7578%090.0003%09100.0%094.6077,%205.0262,%205.009%09Upgini%09Weather%20%26%20climate%20normals%20data%09Premium%0Af_economic_date_cpi_pca_0_af5ec5cf%090.0003%09100.0%0955.8509,%2015.2098,%2064.6954%09Upgini%09World%20economic%20indicators%09Free%0Af_autofe_max_1135%090.0003%09100.0%090.7296,%20-0.5933,%200.8359%09Upgini%09AutoFE%3A%20features%20from%20%3Ca%20href%3D%27https%3A%2F%2Fupgini.com%2F%23data_sources%27%20target%3D%27_blank%27%20rel%3D%27noopener%20noreferrer%27%3ECalendar%20data%3C%2Fa%3E%09Free%0Af_economic_date_cbpol_pca_2_33d6e3fc%090.0003%09100.0%093.7301,%202.5326,%201.9234%09Upgini%09World%20economic%20indicators%09Free%0Af_weather_date_weather_umap_1_68679173%090.0002%09100.0%098.9593,%20-1.1956,%20-3.3907%09Upgini%09Weather%20%26%20climate%20normals%20data%09Premium%0Af_autofe_min_311%090.0002%09100.0%09-0.9998,%200.2595,%200.4482%09Upgini%09AutoFE%3A%20features%20from%20%3Ca%20href%3D%27https%3A%2F%2Fupgini.com%2F%23data_sources%27%20target%3D%27_blank%27%20rel%3D%27noopener%20noreferrer%27%3ECalendar%20data%3C%2Fa%3E%09Free%0Af_financial_date_natural_gas_7d_to_7d_1y_shift_a5c3c07f%090.0002%09100.0%091.1769,%201.0387,%201.3352%09Upgini%09Markets%20data%09Free%0Af_autofe_div_2368%090.0002%09100.0%090.7726,%200.8382,%200.9765%09Upgini%09AutoFE%3A%20features%20from%20%3Ca%20href%3D%27https%3A%2F%2Fupgini.com%2F%23data_sources%27%20target%3D%27_blank%27%20rel%3D%27noopener%20noreferrer%27%3EMarkets%20data%3C%2Fa%3E%09Free%0Af_events_date_year_cos1_9014a856%090.0002%09100.0%090.2428,%20-0.6453,%20-0.9997%09Upgini%09Calendar%20data%09Free%0Af_economic_date_cbpol_pca_9_bde660b4%090.0002%09100.0%09-1.5166,%20-2.4357,%20-2.3416%09Upgini%09World%20economic%20indicators%09Free%0Af_financial_date_nasdaq_7d_to_7d_1y_shift_4a4dd6ce%090.0002%09100.0%090.9479,%201.1822,%201.0643%09Upgini%09Markets%20data%09Free%0Af_financial_date_finance_umap_2_a414df3b%090.0002%09100.0%095.8347,%203.052,%209.825%09Upgini%09Markets%20data%09Free%0Af_economic_date_cci_pca_5_b433b3c8%090.0001%09100.0%09-0.7836,%20-2.8013,%205.0286%09Upgini%09World%20economic%20indicators%09Free%0Af_weather_date_weather_umap_22_0342ee9e%090.0001%09100.0%095.3229,%205.014,%205.3231%09Upgini%09Weather%20%26%20climate%20normals%20data%09Premium%0Af_weather_date_weather_pca_1_9e4af931%090.0001%09100.0%097.763,%207.2884,%2018.9549%09Upgini%09Weather%20%26%20climate%20normals%20data%09Premium%0Af_weather_date_weather_umap_8_faa85dbb%090.0001%09100.0%094.077,%207.2699,%203.7814%09Upgini%09Weather%20%26%20climate%20normals%20data%09Premium%0Af_autofe_max_1134%090.0001%09100.0%090.8498,%200.8631,%200.1798%09Upgini%09AutoFE%3A%20features%20from%20%3Ca%20href%3D%27https%3A%2F%2Fupgini.com%2F%23data_sources%27%20target%3D%27_blank%27%20rel%3D%27noopener%20noreferrer%27%3ECalendar%20data%3C%2Fa%3E%09Free%0Af_autofe_min_606%090.0001%09100.0%09-0.9733,%200.07,%20-0.1031%09Upgini%09AutoFE%3A%20features%20from%20%3Ca%20href%3D%27https%3A%2F%2Fupgini.com%2F%23data_sources%27%20target%3D%27_blank%27%20rel%3D%27noopener%20noreferrer%27%3ECalendar%20data%3C%2Fa%3E,%3Ca%20href%3D%27https%3A%2F%2Fupgini.com%2F%23data_sources%27%20target%3D%27_blank%27%20rel%3D%27noopener%20noreferrer%27%3EMarkets%20data%3C%2Fa%3E%09Free%0Af_autofe_max_1055%090.0001%09100.0%090.5307,%20-0.3537,%200.0688%09Upgini%09AutoFE%3A%20features%20from%20%3Ca%20href%3D%27https%3A%2F%2Fupgini.com%2F%23data_sources%27%20target%3D%27_blank%27%20rel%3D%27noopener%20noreferrer%27%3ECalendar%20data%3C%2Fa%3E%09Free%0A'))>📂 Copy</button>\n",
              "                <a href='mailto:<Share with...>?subject=Relevant external data sources from Upgini.com&body=Feature%20name%09SHAP%20value%09Coverage%20%25%09Value%20preview%09Provider%09Source%09Feature%20type%0Af_autofe_max_1050%090.0566%09100.0%09-0.3335,%20-0.6918,%200.9577%09Upgini%09AutoFE%3A%20features%20from%20%3Ca%20href%3D%27https%3A%2F%2Fupgini.com%2F%23data_sources%27%20target%3D%27_blank%27%20rel%3D%27noopener%20noreferrer%27%3ECalendar%20data%3C%2Fa%3E%09Free%0Af_autofe_min_268%090.0505%09100.0%09-0.7624,%20-0.6918,%20-0.8786%09Upgini%09AutoFE%3A%20features%20from%20%3Ca%20href%3D%27https%3A%2F%2Fupgini.com%2F%23data_sources%27%20target%3D%27_blank%27%20rel%3D%27noopener%20noreferrer%27%3ECalendar%20data%3C%2Fa%3E%09Free%0Af_autofe_max_1129%090.0205%09100.0%090.8249,%200.6918,%20-0.7325%09Upgini%09AutoFE%3A%20features%20from%20%3Ca%20href%3D%27https%3A%2F%2Fupgini.com%2F%23data_sources%27%20target%3D%27_blank%27%20rel%3D%27noopener%20noreferrer%27%3ECalendar%20data%3C%2Fa%3E%09Free%0Af_weather_date_weather_umap_47_5123ef0a%090.0097%09100.0%095.7363,%205.3626,%204.7%09Upgini%09Weather%20%26%20climate%20normals%20data%09Premium%0Af_weather_date_weather_umap_48_b39cd0c4%090.0096%09100.0%094.5686,%204.7026,%205.4386%09Upgini%09Weather%20%26%20climate%20normals%20data%09Premium%0Af_weather_date_weather_umap_31_fa6d9a99%090.0082%09100.0%095.1327,%204.7958,%204.9119%09Upgini%09Weather%20%26%20climate%20normals%20data%09Premium%0Af_autofe_min_291%090.0053%09100.0%09-0.004,%20-0.345,%20-0.084%09Upgini%09AutoFE%3A%20features%20from%20%3Ca%20href%3D%27https%3A%2F%2Fupgini.com%2F%23data_sources%27%20target%3D%27_blank%27%20rel%3D%27noopener%20noreferrer%27%3ECalendar%20data%3C%2Fa%3E,%3Ca%20href%3D%27https%3A%2F%2Fupgini.com%2F%23data_sources%27%20target%3D%27_blank%27%20rel%3D%27noopener%20noreferrer%27%3EMarkets%20data%3C%2Fa%3E%09Free%0Af_autofe_div_1999%090.0043%09100.0%09-0.0097,%200.0088,%200.0098%09Upgini%09AutoFE%3A%20features%20from%20%3Ca%20href%3D%27https%3A%2F%2Fupgini.com%2F%23data_sources%27%20target%3D%27_blank%27%20rel%3D%27noopener%20noreferrer%27%3ECalendar%20data%3C%2Fa%3E,%3Ca%20href%3D%27https%3A%2F%2Fupgini.com%2F%23data_sources%27%20target%3D%27_blank%27%20rel%3D%27noopener%20noreferrer%27%3EMarkets%20data%3C%2Fa%3E%09Free%0Af_weather_date_weather_umap_34_c3ef5b4f%090.0028%09100.0%094.8112,%204.7247,%205.533%09Upgini%09Weather%20%26%20climate%20normals%20data%09Premium%0Af_financial_date_gold_7d_to_1y_ae310379%090.0025%09100.0%090.902,%201.0424,%200.8555%09Upgini%09Markets%20data%09Free%0Af_autofe_div_2039%090.0021%09100.0%090.3818,%201.0711,%20-1.0764%09Upgini%09AutoFE%3A%20features%20from%20%3Ca%20href%3D%27https%3A%2F%2Fupgini.com%2F%23data_sources%27%20target%3D%27_blank%27%20rel%3D%27noopener%20noreferrer%27%3ECalendar%20data%3C%2Fa%3E,%3Ca%20href%3D%27https%3A%2F%2Fupgini.com%2F%23data_sources%27%20target%3D%27_blank%27%20rel%3D%27noopener%20noreferrer%27%3EMarkets%20data%3C%2Fa%3E%09Free%0Af_weather_date_weather_pca_0_d7e0a1fc%090.0021%09100.0%09-9.1327,%2027.3565,%20-27.9907%09Upgini%09Weather%20%26%20climate%20normals%20data%09Premium%0Af_autofe_min_274%090.002%09100.0%090.5012,%20-0.9327,%20-0.6681%09Upgini%09AutoFE%3A%20features%20from%20%3Ca%20href%3D%27https%3A%2F%2Fupgini.com%2F%23data_sources%27%20target%3D%27_blank%27%20rel%3D%27noopener%20noreferrer%27%3ECalendar%20data%3C%2Fa%3E%09Free%0Af_autofe_min_312%090.001%09100.0%09-0.5794,%20-0.9778,%200.4328%09Upgini%09AutoFE%3A%20features%20from%20%3Ca%20href%3D%27https%3A%2F%2Fupgini.com%2F%23data_sources%27%20target%3D%27_blank%27%20rel%3D%27noopener%20noreferrer%27%3ECalendar%20data%3C%2Fa%3E%09Free%0Af_autofe_max_1056%090.0009%09100.0%09-0.7177,%200.7056,%200.6681%09Upgini%09AutoFE%3A%20features%20from%20%3Ca%20href%3D%27https%3A%2F%2Fupgini.com%2F%23data_sources%27%20target%3D%27_blank%27%20rel%3D%27noopener%20noreferrer%27%3ECalendar%20data%3C%2Fa%3E%09Free%0Af_autofe_div_2037%090.0008%09100.0%09-0.0043,%20-0.0049,%20-0.0027%09Upgini%09AutoFE%3A%20features%20from%20%3Ca%20href%3D%27https%3A%2F%2Fupgini.com%2F%23data_sources%27%20target%3D%27_blank%27%20rel%3D%27noopener%20noreferrer%27%3ECalendar%20data%3C%2Fa%3E,%3Ca%20href%3D%27https%3A%2F%2Fupgini.com%2F%23data_sources%27%20target%3D%27_blank%27%20rel%3D%27noopener%20noreferrer%27%3EMarkets%20data%3C%2Fa%3E%09Free%0Af_weather_date_weather_umap_7_6ef8b038%090.0008%09100.0%098.2035,%205.2604,%203.2947%09Upgini%09Weather%20%26%20climate%20normals%20data%09Premium%0Af_autofe_max_1130%090.0007%09100.0%090.4239,%200.4367,%200.6387%09Upgini%09AutoFE%3A%20features%20from%20%3Ca%20href%3D%27https%3A%2F%2Fupgini.com%2F%23data_sources%27%20target%3D%27_blank%27%20rel%3D%27noopener%20noreferrer%27%3ECalendar%20data%3C%2Fa%3E%09Free%0Af_autofe_max_1457%090.0007%09100.0%090.8406,%200.8139,%200.9069%09Upgini%09AutoFE%3A%20features%20from%20%3Ca%20href%3D%27https%3A%2F%2Fupgini.com%2F%23data_sources%27%20target%3D%27_blank%27%20rel%3D%27noopener%20noreferrer%27%3ECalendar%20data%3C%2Fa%3E,%3Ca%20href%3D%27https%3A%2F%2Fupgini.com%2F%23data_sources%27%20target%3D%27_blank%27%20rel%3D%27noopener%20noreferrer%27%3EMarkets%20data%3C%2Fa%3E%09Free%0Af_autofe_min_644%090.0006%09100.0%090.5944,%200.967,%200.966%09Upgini%09AutoFE%3A%20features%20from%20%3Ca%20href%3D%27https%3A%2F%2Fupgini.com%2F%23data_sources%27%20target%3D%27_blank%27%20rel%3D%27noopener%20noreferrer%27%3EMarkets%20data%3C%2Fa%3E%09Free%0Af_autofe_div_2038%090.0006%09100.0%09-0.1264,%20-0.9005,%201.3853%09Upgini%09AutoFE%3A%20features%20from%20%3Ca%20href%3D%27https%3A%2F%2Fupgini.com%2F%23data_sources%27%20target%3D%27_blank%27%20rel%3D%27noopener%20noreferrer%27%3ECalendar%20data%3C%2Fa%3E,%3Ca%20href%3D%27https%3A%2F%2Fupgini.com%2F%23data_sources%27%20target%3D%27_blank%27%20rel%3D%27noopener%20noreferrer%27%3EMarkets%20data%3C%2Fa%3E%09Free%0Af_autofe_div_1961%090.0006%09100.0%091.5512,%200.6394,%20-1.2631%09Upgini%09AutoFE%3A%20features%20from%20%3Ca%20href%3D%27https%3A%2F%2Fupgini.com%2F%23data_sources%27%20target%3D%27_blank%27%20rel%3D%27noopener%20noreferrer%27%3ECalendar%20data%3C%2Fa%3E,%3Ca%20href%3D%27https%3A%2F%2Fupgini.com%2F%23data_sources%27%20target%3D%27_blank%27%20rel%3D%27noopener%20noreferrer%27%3EMarkets%20data%3C%2Fa%3E%09Free%0Af_autofe_max_1089%090.0006%09100.0%091.0,%200.6235,%201.0%09Upgini%09AutoFE%3A%20features%20from%20%3Ca%20href%3D%27https%3A%2F%2Fupgini.com%2F%23data_sources%27%20target%3D%27_blank%27%20rel%3D%27noopener%20noreferrer%27%3ECalendar%20data%3C%2Fa%3E%09Free%0Af_autofe_min_300%090.0006%09100.0%09-0.71,%200.57,%20-0.81%09Upgini%09AutoFE%3A%20features%20from%20%3Ca%20href%3D%27https%3A%2F%2Fupgini.com%2F%23data_sources%27%20target%3D%27_blank%27%20rel%3D%27noopener%20noreferrer%27%3ECalendar%20data%3C%2Fa%3E,%3Ca%20href%3D%27https%3A%2F%2Fupgini.com%2F%23data_sources%27%20target%3D%27_blank%27%20rel%3D%27noopener%20noreferrer%27%3EMarkets%20data%3C%2Fa%3E%09Free%0Af_autofe_min_188%090.0006%09100.0%09-0.7818,%200.6235,%20-0.7818%09Upgini%09AutoFE%3A%20features%20from%20%3Ca%20href%3D%27https%3A%2F%2Fupgini.com%2F%23data_sources%27%20target%3D%27_blank%27%20rel%3D%27noopener%20noreferrer%27%3ECalendar%20data%3C%2Fa%3E%09Free%0Af_autofe_min_330%090.0005%09100.0%09-0.199,%200.343,%20-0.168%09Upgini%09AutoFE%3A%20features%20from%20%3Ca%20href%3D%27https%3A%2F%2Fupgini.com%2F%23data_sources%27%20target%3D%27_blank%27%20rel%3D%27noopener%20noreferrer%27%3ECalendar%20data%3C%2Fa%3E,%3Ca%20href%3D%27https%3A%2F%2Fupgini.com%2F%23data_sources%27%20target%3D%27_blank%27%20rel%3D%27noopener%20noreferrer%27%3EMarkets%20data%3C%2Fa%3E%09Free%0Af_autofe_min_269%090.0005%09100.0%090.9015,%200.3285,%200.7147%09Upgini%09AutoFE%3A%20features%20from%20%3Ca%20href%3D%27https%3A%2F%2Fupgini.com%2F%23data_sources%27%20target%3D%27_blank%27%20rel%3D%27noopener%20noreferrer%27%3ECalendar%20data%3C%2Fa%3E%09Free%0Af_autofe_max_1074%090.0005%09100.0%09-0.408,%200.265,%200.031%09Upgini%09AutoFE%3A%20features%20from%20%3Ca%20href%3D%27https%3A%2F%2Fupgini.com%2F%23data_sources%27%20target%3D%27_blank%27%20rel%3D%27noopener%20noreferrer%27%3ECalendar%20data%3C%2Fa%3E,%3Ca%20href%3D%27https%3A%2F%2Fupgini.com%2F%23data_sources%27%20target%3D%27_blank%27%20rel%3D%27noopener%20noreferrer%27%3EMarkets%20data%3C%2Fa%3E%09Free%0Af_financial_date_usd_eur_7d_to_1y_200e4902%090.0005%09100.0%091.0587,%201.1399,%201.0427%09Upgini%09Markets%20data%09Free%0Af_autofe_min_329%090.0005%09100.0%090.041,%20-0.3285,%20-0.5913%09Upgini%09AutoFE%3A%20features%20from%20%3Ca%20href%3D%27https%3A%2F%2Fupgini.com%2F%23data_sources%27%20target%3D%27_blank%27%20rel%3D%27noopener%20noreferrer%27%3ECalendar%20data%3C%2Fa%3E,%3Ca%20href%3D%27https%3A%2F%2Fupgini.com%2F%23data_sources%27%20target%3D%27_blank%27%20rel%3D%27noopener%20noreferrer%27%3EMarkets%20data%3C%2Fa%3E%09Free%0Af_autofe_min_189%090.0004%09100.0%09-0.8288,%20-0.8529,%20-0.2345%09Upgini%09AutoFE%3A%20features%20from%20%3Ca%20href%3D%27https%3A%2F%2Fupgini.com%2F%23data_sources%27%20target%3D%27_blank%27%20rel%3D%27noopener%20noreferrer%27%3ECalendar%20data%3C%2Fa%3E%09Free%0Af_financial_date_stoxx_043cbcd4%090.0004%09100.0%09356.66,%20326.54,%20372.27%09Upgini%09Markets%20data%09Free%0Af_autofe_max_1087%090.0004%09100.0%090.772,%200.711,%200.8037%09Upgini%09AutoFE%3A%20features%20from%20%3Ca%20href%3D%27https%3A%2F%2Fupgini.com%2F%23data_sources%27%20target%3D%27_blank%27%20rel%3D%27noopener%20noreferrer%27%3ECalendar%20data%3C%2Fa%3E,%3Ca%20href%3D%27https%3A%2F%2Fupgini.com%2F%23data_sources%27%20target%3D%27_blank%27%20rel%3D%27noopener%20noreferrer%27%3EMarkets%20data%3C%2Fa%3E%09Free%0Af_financial_date_usd_eur_7d_to_1y_autofe_residual_181%090.0004%09100.0%090.9797,%200.141,%200.0781%09Upgini%09AutoFE%3A%20feature%20from%20%3Ca%20href%3D%27https%3A%2F%2Fupgini.com%2F%23data_sources%27%20target%3D%27_blank%27%20rel%3D%27noopener%20noreferrer%27%3EMarkets%20data%3C%2Fa%3E%09Free%0Af_autofe_min_653%090.0003%09100.0%090.8191,%200.7302,%201.0129%09Upgini%09AutoFE%3A%20features%20from%20%3Ca%20href%3D%27https%3A%2F%2Fupgini.com%2F%23data_sources%27%20target%3D%27_blank%27%20rel%3D%27noopener%20noreferrer%27%3EMarkets%20data%3C%2Fa%3E%09Free%0Af_financial_date_nasdaq_7d_to_1y_b00bfaa7%090.0003%09100.0%091.1078,%201.1022,%201.114%09Upgini%09Markets%20data%09Free%0Af_economic_date_cbpol_umap_4_c5ce4e90%090.0003%09100.0%097.7724,%203.3844,%209.8367%09Upgini%09World%20economic%20indicators%09Free%0Af_weather_date_weather_umap_33_89bb7578%090.0003%09100.0%094.6077,%205.0262,%205.009%09Upgini%09Weather%20%26%20climate%20normals%20data%09Premium%0Af_economic_date_cpi_pca_0_af5ec5cf%090.0003%09100.0%0955.8509,%2015.2098,%2064.6954%09Upgini%09World%20economic%20indicators%09Free%0Af_autofe_max_1135%090.0003%09100.0%090.7296,%20-0.5933,%200.8359%09Upgini%09AutoFE%3A%20features%20from%20%3Ca%20href%3D%27https%3A%2F%2Fupgini.com%2F%23data_sources%27%20target%3D%27_blank%27%20rel%3D%27noopener%20noreferrer%27%3ECalendar%20data%3C%2Fa%3E%09Free%0Af_economic_date_cbpol_pca_2_33d6e3fc%090.0003%09100.0%093.7301,%202.5326,%201.9234%09Upgini%09World%20economic%20indicators%09Free%0Af_weather_date_weather_umap_1_68679173%090.0002%09100.0%098.9593,%20-1.1956,%20-3.3907%09Upgini%09Weather%20%26%20climate%20normals%20data%09Premium%0Af_autofe_min_311%090.0002%09100.0%09-0.9998,%200.2595,%200.4482%09Upgini%09AutoFE%3A%20features%20from%20%3Ca%20href%3D%27https%3A%2F%2Fupgini.com%2F%23data_sources%27%20target%3D%27_blank%27%20rel%3D%27noopener%20noreferrer%27%3ECalendar%20data%3C%2Fa%3E%09Free%0Af_financial_date_natural_gas_7d_to_7d_1y_shift_a5c3c07f%090.0002%09100.0%091.1769,%201.0387,%201.3352%09Upgini%09Markets%20data%09Free%0Af_autofe_div_2368%090.0002%09100.0%090.7726,%200.8382,%200.9765%09Upgini%09AutoFE%3A%20features%20from%20%3Ca%20href%3D%27https%3A%2F%2Fupgini.com%2F%23data_sources%27%20target%3D%27_blank%27%20rel%3D%27noopener%20noreferrer%27%3EMarkets%20data%3C%2Fa%3E%09Free%0Af_events_date_year_cos1_9014a856%090.0002%09100.0%090.2428,%20-0.6453,%20-0.9997%09Upgini%09Calendar%20data%09Free%0Af_economic_date_cbpol_pca_9_bde660b4%090.0002%09100.0%09-1.5166,%20-2.4357,%20-2.3416%09Upgini%09World%20economic%20indicators%09Free%0Af_financial_date_nasdaq_7d_to_7d_1y_shift_4a4dd6ce%090.0002%09100.0%090.9479,%201.1822,%201.0643%09Upgini%09Markets%20data%09Free%0Af_financial_date_finance_umap_2_a414df3b%090.0002%09100.0%095.8347,%203.052,%209.825%09Upgini%09Markets%20data%09Free%0Af_economic_date_cci_pca_5_b433b3c8%090.0001%09100.0%09-0.7836,%20-2.8013,%205.0286%09Upgini%09World%20economic%20indicators%09Free%0Af_weather_date_weather_umap_22_0342ee9e%090.0001%09100.0%095.3229,%205.014,%205.3231%09Upgini%09Weather%20%26%20climate%20normals%20data%09Premium%0Af_weather_date_weather_pca_1_9e4af931%090.0001%09100.0%097.763,%207.2884,%2018.9549%09Upgini%09Weather%20%26%20climate%20normals%20data%09Premium%0Af_weather_date_weather_umap_8_faa85dbb%090.0001%09100.0%094.077,%207.2699,%203.7814%09Upgini%09Weather%20%26%20climate%20normals%20data%09Premium%0Af_autofe_max_1134%090.0001%09100.0%090.8498,%200.8631,%200.1798%09Upgini%09AutoFE%3A%20features%20from%20%3Ca%20href%3D%27https%3A%2F%2Fupgini.com%2F%23data_sources%27%20target%3D%27_blank%27%20rel%3D%27noopener%20noreferrer%27%3ECalendar%20data%3C%2Fa%3E%09Free%0Af_autofe_min_606%090.0001%09100.0%09-0.9733,%200.07,%20-0.1031%09Upgini%09AutoFE%3A%20features%20from%20%3Ca%20href%3D%27https%3A%2F%2Fupgini.com%2F%23data_sources%27%20target%3D%27_blank%27%20rel%3D%27noopener%20noreferrer%27%3ECalendar%20data%3C%2Fa%3E,%3Ca%20href%3D%27https%3A%2F%2Fupgini.com%2F%23data_sources%27%20target%3D%27_blank%27%20rel%3D%27noopener%20noreferrer%27%3EMarkets%20data%3C%2Fa%3E%09Free%0Af_autofe_max_1055%090.0001%09100.0%090.5307,%20-0.3537,%200.0688%09Upgini%09AutoFE%3A%20features%20from%20%3Ca%20href%3D%27https%3A%2F%2Fupgini.com%2F%23data_sources%27%20target%3D%27_blank%27%20rel%3D%27noopener%20noreferrer%27%3ECalendar%20data%3C%2Fa%3E%09Free%0A'>\n",
              "                    <button>📨 Share</button>\n",
              "                </a>\n",
              "            </div>\n",
              "            <table class='upgini-df'><thead><th>Feature name</th><th>SHAP value</th><th>Coverage %</th><th>Value preview</th><th>Provider</th><th>Source</th><th>Feature type</th></thead><tbody><tr><td class='upgini-text'>f_autofe_max_1050</td><td class='upgini-number'>0.0566</td><td class='upgini-number'>100.0000</td><td class='upgini-text'>-0.3335, -0.6918, 0.9577</td><td class='upgini-text'><a href='https://upgini.com' target='_blank' rel='noopener noreferrer'>Upgini</a></td><td class='upgini-text'>AutoFE: features from <a href='https://upgini.com/#data_sources' target='_blank' rel='noopener noreferrer'>Calendar data</a></td><td class='upgini-text'>Free</td></tr><tr><td class='upgini-text'>f_autofe_min_268</td><td class='upgini-number'>0.0505</td><td class='upgini-number'>100.0000</td><td class='upgini-text'>-0.7624, -0.6918, -0.8786</td><td class='upgini-text'><a href='https://upgini.com' target='_blank' rel='noopener noreferrer'>Upgini</a></td><td class='upgini-text'>AutoFE: features from <a href='https://upgini.com/#data_sources' target='_blank' rel='noopener noreferrer'>Calendar data</a></td><td class='upgini-text'>Free</td></tr><tr><td class='upgini-text'>f_autofe_max_1129</td><td class='upgini-number'>0.0205</td><td class='upgini-number'>100.0000</td><td class='upgini-text'>0.8249, 0.6918, -0.7325</td><td class='upgini-text'><a href='https://upgini.com' target='_blank' rel='noopener noreferrer'>Upgini</a></td><td class='upgini-text'>AutoFE: features from <a href='https://upgini.com/#data_sources' target='_blank' rel='noopener noreferrer'>Calendar data</a></td><td class='upgini-text'>Free</td></tr><tr><td class='upgini-text'><a href='https://docs.upgini.com/public/weather/weather_umap#f_weather_date_weather_umap_47_5123ef0a' target='_blank' rel='noopener noreferrer'>f_weather_date_weather_umap_47_5123ef0a</a></td><td class='upgini-number'>0.0097</td><td class='upgini-number'>100.0000</td><td class='upgini-text'>5.7363, 5.3626, 4.7</td><td class='upgini-text'><a href='https://upgini.com' target='_blank' rel='noopener noreferrer'>Upgini</a></td><td class='upgini-text'><a href='https://upgini.com/#data_sources' target='_blank' rel='noopener noreferrer'>Weather & climate normals data</a></td><td class='upgini-text'>Premium</td></tr><tr><td class='upgini-text'><a href='https://docs.upgini.com/public/weather/weather_umap#f_weather_date_weather_umap_48_b39cd0c4' target='_blank' rel='noopener noreferrer'>f_weather_date_weather_umap_48_b39cd0c4</a></td><td class='upgini-number'>0.0096</td><td class='upgini-number'>100.0000</td><td class='upgini-text'>4.5686, 4.7026, 5.4386</td><td class='upgini-text'><a href='https://upgini.com' target='_blank' rel='noopener noreferrer'>Upgini</a></td><td class='upgini-text'><a href='https://upgini.com/#data_sources' target='_blank' rel='noopener noreferrer'>Weather & climate normals data</a></td><td class='upgini-text'>Premium</td></tr><tr><td class='upgini-text'><a href='https://docs.upgini.com/public/weather/weather_umap#f_weather_date_weather_umap_31_fa6d9a99' target='_blank' rel='noopener noreferrer'>f_weather_date_weather_umap_31_fa6d9a99</a></td><td class='upgini-number'>0.0082</td><td class='upgini-number'>100.0000</td><td class='upgini-text'>5.1327, 4.7958, 4.9119</td><td class='upgini-text'><a href='https://upgini.com' target='_blank' rel='noopener noreferrer'>Upgini</a></td><td class='upgini-text'><a href='https://upgini.com/#data_sources' target='_blank' rel='noopener noreferrer'>Weather & climate normals data</a></td><td class='upgini-text'>Premium</td></tr><tr><td class='upgini-text'>f_autofe_min_291</td><td class='upgini-number'>0.0053</td><td class='upgini-number'>100.0000</td><td class='upgini-text'>-0.004, -0.345, -0.084</td><td class='upgini-text'><a href='https://upgini.com' target='_blank' rel='noopener noreferrer'>Upgini</a></td><td class='upgini-text'>AutoFE: features from <a href='https://upgini.com/#data_sources' target='_blank' rel='noopener noreferrer'>Calendar data</a>,<a href='https://upgini.com/#data_sources' target='_blank' rel='noopener noreferrer'>Markets data</a></td><td class='upgini-text'>Free</td></tr><tr><td class='upgini-text'>f_autofe_div_1999</td><td class='upgini-number'>0.0043</td><td class='upgini-number'>100.0000</td><td class='upgini-text'>-0.0097, 0.0088, 0.0098</td><td class='upgini-text'><a href='https://upgini.com' target='_blank' rel='noopener noreferrer'>Upgini</a></td><td class='upgini-text'>AutoFE: features from <a href='https://upgini.com/#data_sources' target='_blank' rel='noopener noreferrer'>Calendar data</a>,<a href='https://upgini.com/#data_sources' target='_blank' rel='noopener noreferrer'>Markets data</a></td><td class='upgini-text'>Free</td></tr><tr><td class='upgini-text'><a href='https://docs.upgini.com/public/weather/weather_umap#f_weather_date_weather_umap_34_c3ef5b4f' target='_blank' rel='noopener noreferrer'>f_weather_date_weather_umap_34_c3ef5b4f</a></td><td class='upgini-number'>0.0028</td><td class='upgini-number'>100.0000</td><td class='upgini-text'>4.8112, 4.7247, 5.533</td><td class='upgini-text'><a href='https://upgini.com' target='_blank' rel='noopener noreferrer'>Upgini</a></td><td class='upgini-text'><a href='https://upgini.com/#data_sources' target='_blank' rel='noopener noreferrer'>Weather & climate normals data</a></td><td class='upgini-text'>Premium</td></tr><tr><td class='upgini-text'><a href='https://docs.upgini.com/public/markets/finance#f_financial_date_gold_7d_to_1y_ae310379' target='_blank' rel='noopener noreferrer'>f_financial_date_gold_7d_to_1y_ae310379</a></td><td class='upgini-number'>0.0025</td><td class='upgini-number'>100.0000</td><td class='upgini-text'>0.902, 1.0424, 0.8555</td><td class='upgini-text'><a href='https://upgini.com' target='_blank' rel='noopener noreferrer'>Upgini</a></td><td class='upgini-text'><a href='https://upgini.com/#data_sources' target='_blank' rel='noopener noreferrer'>Markets data</a></td><td class='upgini-text'>Free</td></tr><tr><td class='upgini-text'>f_autofe_div_2039</td><td class='upgini-number'>0.0021</td><td class='upgini-number'>100.0000</td><td class='upgini-text'>0.3818, 1.0711, -1.0764</td><td class='upgini-text'><a href='https://upgini.com' target='_blank' rel='noopener noreferrer'>Upgini</a></td><td class='upgini-text'>AutoFE: features from <a href='https://upgini.com/#data_sources' target='_blank' rel='noopener noreferrer'>Calendar data</a>,<a href='https://upgini.com/#data_sources' target='_blank' rel='noopener noreferrer'>Markets data</a></td><td class='upgini-text'>Free</td></tr><tr><td class='upgini-text'><a href='https://docs.upgini.com/public/weather/weather_pca#f_weather_date_weather_pca_0_d7e0a1fc' target='_blank' rel='noopener noreferrer'>f_weather_date_weather_pca_0_d7e0a1fc</a></td><td class='upgini-number'>0.0021</td><td class='upgini-number'>100.0000</td><td class='upgini-text'>-9.1327, 27.3565, -27.9907</td><td class='upgini-text'><a href='https://upgini.com' target='_blank' rel='noopener noreferrer'>Upgini</a></td><td class='upgini-text'><a href='https://upgini.com/#data_sources' target='_blank' rel='noopener noreferrer'>Weather & climate normals data</a></td><td class='upgini-text'>Premium</td></tr><tr><td class='upgini-text'>f_autofe_min_274</td><td class='upgini-number'>0.0020</td><td class='upgini-number'>100.0000</td><td class='upgini-text'>0.5012, -0.9327, -0.6681</td><td class='upgini-text'><a href='https://upgini.com' target='_blank' rel='noopener noreferrer'>Upgini</a></td><td class='upgini-text'>AutoFE: features from <a href='https://upgini.com/#data_sources' target='_blank' rel='noopener noreferrer'>Calendar data</a></td><td class='upgini-text'>Free</td></tr><tr><td class='upgini-text'>f_autofe_min_312</td><td class='upgini-number'>0.0010</td><td class='upgini-number'>100.0000</td><td class='upgini-text'>-0.5794, -0.9778, 0.4328</td><td class='upgini-text'><a href='https://upgini.com' target='_blank' rel='noopener noreferrer'>Upgini</a></td><td class='upgini-text'>AutoFE: features from <a href='https://upgini.com/#data_sources' target='_blank' rel='noopener noreferrer'>Calendar data</a></td><td class='upgini-text'>Free</td></tr><tr><td class='upgini-text'>f_autofe_max_1056</td><td class='upgini-number'>0.0009</td><td class='upgini-number'>100.0000</td><td class='upgini-text'>-0.7177, 0.7056, 0.6681</td><td class='upgini-text'><a href='https://upgini.com' target='_blank' rel='noopener noreferrer'>Upgini</a></td><td class='upgini-text'>AutoFE: features from <a href='https://upgini.com/#data_sources' target='_blank' rel='noopener noreferrer'>Calendar data</a></td><td class='upgini-text'>Free</td></tr><tr><td class='upgini-text'>f_autofe_div_2037</td><td class='upgini-number'>0.0008</td><td class='upgini-number'>100.0000</td><td class='upgini-text'>-0.0043, -0.0049, -0.0027</td><td class='upgini-text'><a href='https://upgini.com' target='_blank' rel='noopener noreferrer'>Upgini</a></td><td class='upgini-text'>AutoFE: features from <a href='https://upgini.com/#data_sources' target='_blank' rel='noopener noreferrer'>Calendar data</a>,<a href='https://upgini.com/#data_sources' target='_blank' rel='noopener noreferrer'>Markets data</a></td><td class='upgini-text'>Free</td></tr><tr><td class='upgini-text'><a href='https://docs.upgini.com/public/weather/weather_umap#f_weather_date_weather_umap_7_6ef8b038' target='_blank' rel='noopener noreferrer'>f_weather_date_weather_umap_7_6ef8b038</a></td><td class='upgini-number'>0.0008</td><td class='upgini-number'>100.0000</td><td class='upgini-text'>8.2035, 5.2604, 3.2947</td><td class='upgini-text'><a href='https://upgini.com' target='_blank' rel='noopener noreferrer'>Upgini</a></td><td class='upgini-text'><a href='https://upgini.com/#data_sources' target='_blank' rel='noopener noreferrer'>Weather & climate normals data</a></td><td class='upgini-text'>Premium</td></tr><tr><td class='upgini-text'>f_autofe_max_1130</td><td class='upgini-number'>0.0007</td><td class='upgini-number'>100.0000</td><td class='upgini-text'>0.4239, 0.4367, 0.6387</td><td class='upgini-text'><a href='https://upgini.com' target='_blank' rel='noopener noreferrer'>Upgini</a></td><td class='upgini-text'>AutoFE: features from <a href='https://upgini.com/#data_sources' target='_blank' rel='noopener noreferrer'>Calendar data</a></td><td class='upgini-text'>Free</td></tr><tr><td class='upgini-text'>f_autofe_max_1457</td><td class='upgini-number'>0.0007</td><td class='upgini-number'>100.0000</td><td class='upgini-text'>0.8406, 0.8139, 0.9069</td><td class='upgini-text'><a href='https://upgini.com' target='_blank' rel='noopener noreferrer'>Upgini</a></td><td class='upgini-text'>AutoFE: features from <a href='https://upgini.com/#data_sources' target='_blank' rel='noopener noreferrer'>Calendar data</a>,<a href='https://upgini.com/#data_sources' target='_blank' rel='noopener noreferrer'>Markets data</a></td><td class='upgini-text'>Free</td></tr><tr><td class='upgini-text'>f_autofe_min_644</td><td class='upgini-number'>0.0006</td><td class='upgini-number'>100.0000</td><td class='upgini-text'>0.5944, 0.967, 0.966</td><td class='upgini-text'><a href='https://upgini.com' target='_blank' rel='noopener noreferrer'>Upgini</a></td><td class='upgini-text'>AutoFE: features from <a href='https://upgini.com/#data_sources' target='_blank' rel='noopener noreferrer'>Markets data</a></td><td class='upgini-text'>Free</td></tr><tr><td class='upgini-text'>f_autofe_div_2038</td><td class='upgini-number'>0.0006</td><td class='upgini-number'>100.0000</td><td class='upgini-text'>-0.1264, -0.9005, 1.3853</td><td class='upgini-text'><a href='https://upgini.com' target='_blank' rel='noopener noreferrer'>Upgini</a></td><td class='upgini-text'>AutoFE: features from <a href='https://upgini.com/#data_sources' target='_blank' rel='noopener noreferrer'>Calendar data</a>,<a href='https://upgini.com/#data_sources' target='_blank' rel='noopener noreferrer'>Markets data</a></td><td class='upgini-text'>Free</td></tr><tr><td class='upgini-text'>f_autofe_div_1961</td><td class='upgini-number'>0.0006</td><td class='upgini-number'>100.0000</td><td class='upgini-text'>1.5512, 0.6394, -1.2631</td><td class='upgini-text'><a href='https://upgini.com' target='_blank' rel='noopener noreferrer'>Upgini</a></td><td class='upgini-text'>AutoFE: features from <a href='https://upgini.com/#data_sources' target='_blank' rel='noopener noreferrer'>Calendar data</a>,<a href='https://upgini.com/#data_sources' target='_blank' rel='noopener noreferrer'>Markets data</a></td><td class='upgini-text'>Free</td></tr><tr><td class='upgini-text'>f_autofe_max_1089</td><td class='upgini-number'>0.0006</td><td class='upgini-number'>100.0000</td><td class='upgini-text'>1.0, 0.6235, 1.0</td><td class='upgini-text'><a href='https://upgini.com' target='_blank' rel='noopener noreferrer'>Upgini</a></td><td class='upgini-text'>AutoFE: features from <a href='https://upgini.com/#data_sources' target='_blank' rel='noopener noreferrer'>Calendar data</a></td><td class='upgini-text'>Free</td></tr><tr><td class='upgini-text'>f_autofe_min_300</td><td class='upgini-number'>0.0006</td><td class='upgini-number'>100.0000</td><td class='upgini-text'>-0.71, 0.57, -0.81</td><td class='upgini-text'><a href='https://upgini.com' target='_blank' rel='noopener noreferrer'>Upgini</a></td><td class='upgini-text'>AutoFE: features from <a href='https://upgini.com/#data_sources' target='_blank' rel='noopener noreferrer'>Calendar data</a>,<a href='https://upgini.com/#data_sources' target='_blank' rel='noopener noreferrer'>Markets data</a></td><td class='upgini-text'>Free</td></tr><tr><td class='upgini-text'>f_autofe_min_188</td><td class='upgini-number'>0.0006</td><td class='upgini-number'>100.0000</td><td class='upgini-text'>-0.7818, 0.6235, -0.7818</td><td class='upgini-text'><a href='https://upgini.com' target='_blank' rel='noopener noreferrer'>Upgini</a></td><td class='upgini-text'>AutoFE: features from <a href='https://upgini.com/#data_sources' target='_blank' rel='noopener noreferrer'>Calendar data</a></td><td class='upgini-text'>Free</td></tr><tr><td class='upgini-text'>f_autofe_min_330</td><td class='upgini-number'>0.0005</td><td class='upgini-number'>100.0000</td><td class='upgini-text'>-0.199, 0.343, -0.168</td><td class='upgini-text'><a href='https://upgini.com' target='_blank' rel='noopener noreferrer'>Upgini</a></td><td class='upgini-text'>AutoFE: features from <a href='https://upgini.com/#data_sources' target='_blank' rel='noopener noreferrer'>Calendar data</a>,<a href='https://upgini.com/#data_sources' target='_blank' rel='noopener noreferrer'>Markets data</a></td><td class='upgini-text'>Free</td></tr><tr><td class='upgini-text'>f_autofe_min_269</td><td class='upgini-number'>0.0005</td><td class='upgini-number'>100.0000</td><td class='upgini-text'>0.9015, 0.3285, 0.7147</td><td class='upgini-text'><a href='https://upgini.com' target='_blank' rel='noopener noreferrer'>Upgini</a></td><td class='upgini-text'>AutoFE: features from <a href='https://upgini.com/#data_sources' target='_blank' rel='noopener noreferrer'>Calendar data</a></td><td class='upgini-text'>Free</td></tr><tr><td class='upgini-text'>f_autofe_max_1074</td><td class='upgini-number'>0.0005</td><td class='upgini-number'>100.0000</td><td class='upgini-text'>-0.408, 0.265, 0.031</td><td class='upgini-text'><a href='https://upgini.com' target='_blank' rel='noopener noreferrer'>Upgini</a></td><td class='upgini-text'>AutoFE: features from <a href='https://upgini.com/#data_sources' target='_blank' rel='noopener noreferrer'>Calendar data</a>,<a href='https://upgini.com/#data_sources' target='_blank' rel='noopener noreferrer'>Markets data</a></td><td class='upgini-text'>Free</td></tr><tr><td class='upgini-text'><a href='https://docs.upgini.com/public/markets/finance#f_financial_date_usd_eur_7d_to_1y_200e4902' target='_blank' rel='noopener noreferrer'>f_financial_date_usd_eur_7d_to_1y_200e4902</a></td><td class='upgini-number'>0.0005</td><td class='upgini-number'>100.0000</td><td class='upgini-text'>1.0587, 1.1399, 1.0427</td><td class='upgini-text'><a href='https://upgini.com' target='_blank' rel='noopener noreferrer'>Upgini</a></td><td class='upgini-text'><a href='https://upgini.com/#data_sources' target='_blank' rel='noopener noreferrer'>Markets data</a></td><td class='upgini-text'>Free</td></tr><tr><td class='upgini-text'>f_autofe_min_329</td><td class='upgini-number'>0.0005</td><td class='upgini-number'>100.0000</td><td class='upgini-text'>0.041, -0.3285, -0.5913</td><td class='upgini-text'><a href='https://upgini.com' target='_blank' rel='noopener noreferrer'>Upgini</a></td><td class='upgini-text'>AutoFE: features from <a href='https://upgini.com/#data_sources' target='_blank' rel='noopener noreferrer'>Calendar data</a>,<a href='https://upgini.com/#data_sources' target='_blank' rel='noopener noreferrer'>Markets data</a></td><td class='upgini-text'>Free</td></tr><tr><td class='upgini-text'>f_autofe_min_189</td><td class='upgini-number'>0.0004</td><td class='upgini-number'>100.0000</td><td class='upgini-text'>-0.8288, -0.8529, -0.2345</td><td class='upgini-text'><a href='https://upgini.com' target='_blank' rel='noopener noreferrer'>Upgini</a></td><td class='upgini-text'>AutoFE: features from <a href='https://upgini.com/#data_sources' target='_blank' rel='noopener noreferrer'>Calendar data</a></td><td class='upgini-text'>Free</td></tr><tr><td class='upgini-text'><a href='https://docs.upgini.com/public/markets/finance#f_financial_date_stoxx_043cbcd4' target='_blank' rel='noopener noreferrer'>f_financial_date_stoxx_043cbcd4</a></td><td class='upgini-number'>0.0004</td><td class='upgini-number'>100.0000</td><td class='upgini-text'>356.66, 326.54, 372.27</td><td class='upgini-text'><a href='https://upgini.com' target='_blank' rel='noopener noreferrer'>Upgini</a></td><td class='upgini-text'><a href='https://upgini.com/#data_sources' target='_blank' rel='noopener noreferrer'>Markets data</a></td><td class='upgini-text'>Free</td></tr><tr><td class='upgini-text'>f_autofe_max_1087</td><td class='upgini-number'>0.0004</td><td class='upgini-number'>100.0000</td><td class='upgini-text'>0.772, 0.711, 0.8037</td><td class='upgini-text'><a href='https://upgini.com' target='_blank' rel='noopener noreferrer'>Upgini</a></td><td class='upgini-text'>AutoFE: features from <a href='https://upgini.com/#data_sources' target='_blank' rel='noopener noreferrer'>Calendar data</a>,<a href='https://upgini.com/#data_sources' target='_blank' rel='noopener noreferrer'>Markets data</a></td><td class='upgini-text'>Free</td></tr><tr><td class='upgini-text'>f_financial_date_usd_eur_7d_to_1y_autofe_residual_181</td><td class='upgini-number'>0.0004</td><td class='upgini-number'>100.0000</td><td class='upgini-text'>0.9797, 0.141, 0.0781</td><td class='upgini-text'><a href='https://upgini.com' target='_blank' rel='noopener noreferrer'>Upgini</a></td><td class='upgini-text'>AutoFE: feature from <a href='https://upgini.com/#data_sources' target='_blank' rel='noopener noreferrer'>Markets data</a></td><td class='upgini-text'>Free</td></tr><tr><td class='upgini-text'>f_autofe_min_653</td><td class='upgini-number'>0.0003</td><td class='upgini-number'>100.0000</td><td class='upgini-text'>0.8191, 0.7302, 1.0129</td><td class='upgini-text'><a href='https://upgini.com' target='_blank' rel='noopener noreferrer'>Upgini</a></td><td class='upgini-text'>AutoFE: features from <a href='https://upgini.com/#data_sources' target='_blank' rel='noopener noreferrer'>Markets data</a></td><td class='upgini-text'>Free</td></tr><tr><td class='upgini-text'><a href='https://docs.upgini.com/public/markets/finance#f_financial_date_nasdaq_7d_to_1y_b00bfaa7' target='_blank' rel='noopener noreferrer'>f_financial_date_nasdaq_7d_to_1y_b00bfaa7</a></td><td class='upgini-number'>0.0003</td><td class='upgini-number'>100.0000</td><td class='upgini-text'>1.1078, 1.1022, 1.114</td><td class='upgini-text'><a href='https://upgini.com' target='_blank' rel='noopener noreferrer'>Upgini</a></td><td class='upgini-text'><a href='https://upgini.com/#data_sources' target='_blank' rel='noopener noreferrer'>Markets data</a></td><td class='upgini-text'>Free</td></tr><tr><td class='upgini-text'><a href='https://docs.upgini.com/public/economics/cbpol_umap#f_economic_date_cbpol_umap_4_c5ce4e90' target='_blank' rel='noopener noreferrer'>f_economic_date_cbpol_umap_4_c5ce4e90</a></td><td class='upgini-number'>0.0003</td><td class='upgini-number'>100.0000</td><td class='upgini-text'>7.7724, 3.3844, 9.8367</td><td class='upgini-text'><a href='https://upgini.com' target='_blank' rel='noopener noreferrer'>Upgini</a></td><td class='upgini-text'><a href='https://upgini.com/#data_sources' target='_blank' rel='noopener noreferrer'>World economic indicators</a></td><td class='upgini-text'>Free</td></tr><tr><td class='upgini-text'><a href='https://docs.upgini.com/public/weather/weather_umap#f_weather_date_weather_umap_33_89bb7578' target='_blank' rel='noopener noreferrer'>f_weather_date_weather_umap_33_89bb7578</a></td><td class='upgini-number'>0.0003</td><td class='upgini-number'>100.0000</td><td class='upgini-text'>4.6077, 5.0262, 5.009</td><td class='upgini-text'><a href='https://upgini.com' target='_blank' rel='noopener noreferrer'>Upgini</a></td><td class='upgini-text'><a href='https://upgini.com/#data_sources' target='_blank' rel='noopener noreferrer'>Weather & climate normals data</a></td><td class='upgini-text'>Premium</td></tr><tr><td class='upgini-text'><a href='https://docs.upgini.com/public/economics/cpi_pca#f_economic_date_cpi_pca_0_af5ec5cf' target='_blank' rel='noopener noreferrer'>f_economic_date_cpi_pca_0_af5ec5cf</a></td><td class='upgini-number'>0.0003</td><td class='upgini-number'>100.0000</td><td class='upgini-text'>55.8509, 15.2098, 64.6954</td><td class='upgini-text'><a href='https://upgini.com' target='_blank' rel='noopener noreferrer'>Upgini</a></td><td class='upgini-text'><a href='https://upgini.com/#data_sources' target='_blank' rel='noopener noreferrer'>World economic indicators</a></td><td class='upgini-text'>Free</td></tr><tr><td class='upgini-text'>f_autofe_max_1135</td><td class='upgini-number'>0.0003</td><td class='upgini-number'>100.0000</td><td class='upgini-text'>0.7296, -0.5933, 0.8359</td><td class='upgini-text'><a href='https://upgini.com' target='_blank' rel='noopener noreferrer'>Upgini</a></td><td class='upgini-text'>AutoFE: features from <a href='https://upgini.com/#data_sources' target='_blank' rel='noopener noreferrer'>Calendar data</a></td><td class='upgini-text'>Free</td></tr><tr><td class='upgini-text'><a href='https://docs.upgini.com/public/economics/cbpol_pca#f_economic_date_cbpol_pca_2_33d6e3fc' target='_blank' rel='noopener noreferrer'>f_economic_date_cbpol_pca_2_33d6e3fc</a></td><td class='upgini-number'>0.0003</td><td class='upgini-number'>100.0000</td><td class='upgini-text'>3.7301, 2.5326, 1.9234</td><td class='upgini-text'><a href='https://upgini.com' target='_blank' rel='noopener noreferrer'>Upgini</a></td><td class='upgini-text'><a href='https://upgini.com/#data_sources' target='_blank' rel='noopener noreferrer'>World economic indicators</a></td><td class='upgini-text'>Free</td></tr><tr><td class='upgini-text'><a href='https://docs.upgini.com/public/weather/weather_umap#f_weather_date_weather_umap_1_68679173' target='_blank' rel='noopener noreferrer'>f_weather_date_weather_umap_1_68679173</a></td><td class='upgini-number'>0.0002</td><td class='upgini-number'>100.0000</td><td class='upgini-text'>8.9593, -1.1956, -3.3907</td><td class='upgini-text'><a href='https://upgini.com' target='_blank' rel='noopener noreferrer'>Upgini</a></td><td class='upgini-text'><a href='https://upgini.com/#data_sources' target='_blank' rel='noopener noreferrer'>Weather & climate normals data</a></td><td class='upgini-text'>Premium</td></tr><tr><td class='upgini-text'>f_autofe_min_311</td><td class='upgini-number'>0.0002</td><td class='upgini-number'>100.0000</td><td class='upgini-text'>-0.9998, 0.2595, 0.4482</td><td class='upgini-text'><a href='https://upgini.com' target='_blank' rel='noopener noreferrer'>Upgini</a></td><td class='upgini-text'>AutoFE: features from <a href='https://upgini.com/#data_sources' target='_blank' rel='noopener noreferrer'>Calendar data</a></td><td class='upgini-text'>Free</td></tr><tr><td class='upgini-text'><a href='https://docs.upgini.com/public/markets/finance#f_financial_date_natural_gas_7d_to_7d_1y_shift_a5c3c07f' target='_blank' rel='noopener noreferrer'>f_financial_date_natural_gas_7d_to_7d_1y_shift_a5c3c07f</a></td><td class='upgini-number'>0.0002</td><td class='upgini-number'>100.0000</td><td class='upgini-text'>1.1769, 1.0387, 1.3352</td><td class='upgini-text'><a href='https://upgini.com' target='_blank' rel='noopener noreferrer'>Upgini</a></td><td class='upgini-text'><a href='https://upgini.com/#data_sources' target='_blank' rel='noopener noreferrer'>Markets data</a></td><td class='upgini-text'>Free</td></tr><tr><td class='upgini-text'>f_autofe_div_2368</td><td class='upgini-number'>0.0002</td><td class='upgini-number'>100.0000</td><td class='upgini-text'>0.7726, 0.8382, 0.9765</td><td class='upgini-text'><a href='https://upgini.com' target='_blank' rel='noopener noreferrer'>Upgini</a></td><td class='upgini-text'>AutoFE: features from <a href='https://upgini.com/#data_sources' target='_blank' rel='noopener noreferrer'>Markets data</a></td><td class='upgini-text'>Free</td></tr><tr><td class='upgini-text'><a href='https://docs.upgini.com/public/calendar/calendar#f_events_date_year_cos1_9014a856' target='_blank' rel='noopener noreferrer'>f_events_date_year_cos1_9014a856</a></td><td class='upgini-number'>0.0002</td><td class='upgini-number'>100.0000</td><td class='upgini-text'>0.2428, -0.6453, -0.9997</td><td class='upgini-text'><a href='https://upgini.com' target='_blank' rel='noopener noreferrer'>Upgini</a></td><td class='upgini-text'><a href='https://upgini.com/#data_sources' target='_blank' rel='noopener noreferrer'>Calendar data</a></td><td class='upgini-text'>Free</td></tr><tr><td class='upgini-text'><a href='https://docs.upgini.com/public/economics/cbpol_pca#f_economic_date_cbpol_pca_9_bde660b4' target='_blank' rel='noopener noreferrer'>f_economic_date_cbpol_pca_9_bde660b4</a></td><td class='upgini-number'>0.0002</td><td class='upgini-number'>100.0000</td><td class='upgini-text'>-1.5166, -2.4357, -2.3416</td><td class='upgini-text'><a href='https://upgini.com' target='_blank' rel='noopener noreferrer'>Upgini</a></td><td class='upgini-text'><a href='https://upgini.com/#data_sources' target='_blank' rel='noopener noreferrer'>World economic indicators</a></td><td class='upgini-text'>Free</td></tr><tr><td class='upgini-text'><a href='https://docs.upgini.com/public/markets/finance#f_financial_date_nasdaq_7d_to_7d_1y_shift_4a4dd6ce' target='_blank' rel='noopener noreferrer'>f_financial_date_nasdaq_7d_to_7d_1y_shift_4a4dd6ce</a></td><td class='upgini-number'>0.0002</td><td class='upgini-number'>100.0000</td><td class='upgini-text'>0.9479, 1.1822, 1.0643</td><td class='upgini-text'><a href='https://upgini.com' target='_blank' rel='noopener noreferrer'>Upgini</a></td><td class='upgini-text'><a href='https://upgini.com/#data_sources' target='_blank' rel='noopener noreferrer'>Markets data</a></td><td class='upgini-text'>Free</td></tr><tr><td class='upgini-text'><a href='https://docs.upgini.com/public/markets/finance_umap#f_financial_date_finance_umap_2_a414df3b' target='_blank' rel='noopener noreferrer'>f_financial_date_finance_umap_2_a414df3b</a></td><td class='upgini-number'>0.0002</td><td class='upgini-number'>100.0000</td><td class='upgini-text'>5.8347, 3.052, 9.825</td><td class='upgini-text'><a href='https://upgini.com' target='_blank' rel='noopener noreferrer'>Upgini</a></td><td class='upgini-text'><a href='https://upgini.com/#data_sources' target='_blank' rel='noopener noreferrer'>Markets data</a></td><td class='upgini-text'>Free</td></tr><tr><td class='upgini-text'><a href='https://docs.upgini.com/public/economics/cci_pca#f_economic_date_cci_pca_5_b433b3c8' target='_blank' rel='noopener noreferrer'>f_economic_date_cci_pca_5_b433b3c8</a></td><td class='upgini-number'>0.0001</td><td class='upgini-number'>100.0000</td><td class='upgini-text'>-0.7836, -2.8013, 5.0286</td><td class='upgini-text'><a href='https://upgini.com' target='_blank' rel='noopener noreferrer'>Upgini</a></td><td class='upgini-text'><a href='https://upgini.com/#data_sources' target='_blank' rel='noopener noreferrer'>World economic indicators</a></td><td class='upgini-text'>Free</td></tr><tr><td class='upgini-text'><a href='https://docs.upgini.com/public/weather/weather_umap#f_weather_date_weather_umap_22_0342ee9e' target='_blank' rel='noopener noreferrer'>f_weather_date_weather_umap_22_0342ee9e</a></td><td class='upgini-number'>0.0001</td><td class='upgini-number'>100.0000</td><td class='upgini-text'>5.3229, 5.014, 5.3231</td><td class='upgini-text'><a href='https://upgini.com' target='_blank' rel='noopener noreferrer'>Upgini</a></td><td class='upgini-text'><a href='https://upgini.com/#data_sources' target='_blank' rel='noopener noreferrer'>Weather & climate normals data</a></td><td class='upgini-text'>Premium</td></tr><tr><td class='upgini-text'><a href='https://docs.upgini.com/public/weather/weather_pca#f_weather_date_weather_pca_1_9e4af931' target='_blank' rel='noopener noreferrer'>f_weather_date_weather_pca_1_9e4af931</a></td><td class='upgini-number'>0.0001</td><td class='upgini-number'>100.0000</td><td class='upgini-text'>7.763, 7.2884, 18.9549</td><td class='upgini-text'><a href='https://upgini.com' target='_blank' rel='noopener noreferrer'>Upgini</a></td><td class='upgini-text'><a href='https://upgini.com/#data_sources' target='_blank' rel='noopener noreferrer'>Weather & climate normals data</a></td><td class='upgini-text'>Premium</td></tr><tr><td class='upgini-text'><a href='https://docs.upgini.com/public/weather/weather_umap#f_weather_date_weather_umap_8_faa85dbb' target='_blank' rel='noopener noreferrer'>f_weather_date_weather_umap_8_faa85dbb</a></td><td class='upgini-number'>0.0001</td><td class='upgini-number'>100.0000</td><td class='upgini-text'>4.077, 7.2699, 3.7814</td><td class='upgini-text'><a href='https://upgini.com' target='_blank' rel='noopener noreferrer'>Upgini</a></td><td class='upgini-text'><a href='https://upgini.com/#data_sources' target='_blank' rel='noopener noreferrer'>Weather & climate normals data</a></td><td class='upgini-text'>Premium</td></tr><tr><td class='upgini-text'>f_autofe_max_1134</td><td class='upgini-number'>0.0001</td><td class='upgini-number'>100.0000</td><td class='upgini-text'>0.8498, 0.8631, 0.1798</td><td class='upgini-text'><a href='https://upgini.com' target='_blank' rel='noopener noreferrer'>Upgini</a></td><td class='upgini-text'>AutoFE: features from <a href='https://upgini.com/#data_sources' target='_blank' rel='noopener noreferrer'>Calendar data</a></td><td class='upgini-text'>Free</td></tr><tr><td class='upgini-text'>f_autofe_min_606</td><td class='upgini-number'>0.0001</td><td class='upgini-number'>100.0000</td><td class='upgini-text'>-0.9733, 0.07, -0.1031</td><td class='upgini-text'><a href='https://upgini.com' target='_blank' rel='noopener noreferrer'>Upgini</a></td><td class='upgini-text'>AutoFE: features from <a href='https://upgini.com/#data_sources' target='_blank' rel='noopener noreferrer'>Calendar data</a>,<a href='https://upgini.com/#data_sources' target='_blank' rel='noopener noreferrer'>Markets data</a></td><td class='upgini-text'>Free</td></tr><tr><td class='upgini-text'>f_autofe_max_1055</td><td class='upgini-number'>0.0001</td><td class='upgini-number'>100.0000</td><td class='upgini-text'>0.5307, -0.3537, 0.0688</td><td class='upgini-text'><a href='https://upgini.com' target='_blank' rel='noopener noreferrer'>Upgini</a></td><td class='upgini-text'>AutoFE: features from <a href='https://upgini.com/#data_sources' target='_blank' rel='noopener noreferrer'>Calendar data</a></td><td class='upgini-text'>Free</td></tr></tbody></table>\n",
              "        </div>\n",
              "        "
            ]
          },
          "metadata": {}
        },
        {
          "output_type": "display_data",
          "data": {
            "text/plain": [
              "<IPython.core.display.HTML object>"
            ],
            "text/html": [
              "<style>\n",
              "            .upgini-df thead th {\n",
              "                font-weight:bold;\n",
              "                text-align: center;\n",
              "                padding: 0.5em;\n",
              "                border-bottom: 2px solid black;\n",
              "            }\n",
              "\n",
              "            .upgini-df tbody td {\n",
              "                padding: 0.5em;\n",
              "            }\n",
              "\n",
              "            .upgini-df tbody tr:nth-child(odd) {\n",
              "                background-color: #ffffff;\n",
              "            }\n",
              "\n",
              "            .upgini-df tbody tr:nth-child(even) {\n",
              "                background-color: #f2f2f2;\n",
              "            }\n",
              "\n",
              "            .upgini-text {\n",
              "                text-align: left;\n",
              "            }\n",
              "\n",
              "            .upgini-number {\n",
              "                text-align: center;\n",
              "            }\n",
              "        </style>\n",
              "        <h2>Relevant data sources</h2>\n",
              "        <div style=\"display:flex; flex-direction:column; align-items:flex-end; width: fit-content;\">\n",
              "            <div style=\"text-align: right\">\n",
              "                <button onclick=navigator.clipboard.writeText(decodeURI('Provider%09Source%09All%20features%20SHAP%09Number%20of%20relevant%20features%0AUpgini%09AutoFE%3A%20features%20from%20%3Ca%20href%3D%27https%3A%2F%2Fupgini.com%2F%23data_sources%27%20target%3D%27_blank%27%20rel%3D%27noopener%20noreferrer%27%3ECalendar%20data%3C%2Fa%3E%090.135%0915%0AUpgini%09Weather%20%26%20climate%20normals%20data%090.034%0911%0AUpgini%09AutoFE%3A%20features%20from%20%3Ca%20href%3D%27https%3A%2F%2Fupgini.com%2F%23data_sources%27%20target%3D%27_blank%27%20rel%3D%27noopener%20noreferrer%27%3ECalendar%20data%3C%2Fa%3E,%3Ca%20href%3D%27https%3A%2F%2Fupgini.com%2F%23data_sources%27%20target%3D%27_blank%27%20rel%3D%27noopener%20noreferrer%27%3EMarkets%20data%3C%2Fa%3E%090.017%0913%0AUpgini%09Markets%20data%090.0043%097%0AUpgini%09World%20economic%20indicators%090.0012%095%0AUpgini%09AutoFE%3A%20features%20from%20%3Ca%20href%3D%27https%3A%2F%2Fupgini.com%2F%23data_sources%27%20target%3D%27_blank%27%20rel%3D%27noopener%20noreferrer%27%3EMarkets%20data%3C%2Fa%3E%090.0010999999999999998%093%0AUpgini%09AutoFE%3A%20feature%20from%20%3Ca%20href%3D%27https%3A%2F%2Fupgini.com%2F%23data_sources%27%20target%3D%27_blank%27%20rel%3D%27noopener%20noreferrer%27%3EMarkets%20data%3C%2Fa%3E%090.0004%091%0AUpgini%09Calendar%20data%090.0002%091%0A'))>📂 Copy</button>\n",
              "                <a href='mailto:<Share with...>?subject=Relevant external data sources from Upgini.com&body=Provider%09Source%09All%20features%20SHAP%09Number%20of%20relevant%20features%0AUpgini%09AutoFE%3A%20features%20from%20%3Ca%20href%3D%27https%3A%2F%2Fupgini.com%2F%23data_sources%27%20target%3D%27_blank%27%20rel%3D%27noopener%20noreferrer%27%3ECalendar%20data%3C%2Fa%3E%090.135%0915%0AUpgini%09Weather%20%26%20climate%20normals%20data%090.034%0911%0AUpgini%09AutoFE%3A%20features%20from%20%3Ca%20href%3D%27https%3A%2F%2Fupgini.com%2F%23data_sources%27%20target%3D%27_blank%27%20rel%3D%27noopener%20noreferrer%27%3ECalendar%20data%3C%2Fa%3E,%3Ca%20href%3D%27https%3A%2F%2Fupgini.com%2F%23data_sources%27%20target%3D%27_blank%27%20rel%3D%27noopener%20noreferrer%27%3EMarkets%20data%3C%2Fa%3E%090.017%0913%0AUpgini%09Markets%20data%090.0043%097%0AUpgini%09World%20economic%20indicators%090.0012%095%0AUpgini%09AutoFE%3A%20features%20from%20%3Ca%20href%3D%27https%3A%2F%2Fupgini.com%2F%23data_sources%27%20target%3D%27_blank%27%20rel%3D%27noopener%20noreferrer%27%3EMarkets%20data%3C%2Fa%3E%090.0010999999999999998%093%0AUpgini%09AutoFE%3A%20feature%20from%20%3Ca%20href%3D%27https%3A%2F%2Fupgini.com%2F%23data_sources%27%20target%3D%27_blank%27%20rel%3D%27noopener%20noreferrer%27%3EMarkets%20data%3C%2Fa%3E%090.0004%091%0AUpgini%09Calendar%20data%090.0002%091%0A'>\n",
              "                    <button>📨 Share</button>\n",
              "                </a>\n",
              "            </div>\n",
              "            <table class='upgini-df'><thead><th>Provider</th><th>Source</th><th>All features SHAP</th><th>Number of relevant features</th></thead><tbody><tr><td class='upgini-text'><a href='https://upgini.com' target='_blank' rel='noopener noreferrer'>Upgini</a></td><td class='upgini-text'>AutoFE: features from <a href='https://upgini.com/#data_sources' target='_blank' rel='noopener noreferrer'>Calendar data</a></td><td class='upgini-number'>0.1350</td><td class='upgini-number'>15</td></tr><tr><td class='upgini-text'><a href='https://upgini.com' target='_blank' rel='noopener noreferrer'>Upgini</a></td><td class='upgini-text'><a href='https://upgini.com/#data_sources' target='_blank' rel='noopener noreferrer'>Weather & climate normals data</a></td><td class='upgini-number'>0.0340</td><td class='upgini-number'>11</td></tr><tr><td class='upgini-text'><a href='https://upgini.com' target='_blank' rel='noopener noreferrer'>Upgini</a></td><td class='upgini-text'>AutoFE: features from <a href='https://upgini.com/#data_sources' target='_blank' rel='noopener noreferrer'>Calendar data</a>,<a href='https://upgini.com/#data_sources' target='_blank' rel='noopener noreferrer'>Markets data</a></td><td class='upgini-number'>0.0170</td><td class='upgini-number'>13</td></tr><tr><td class='upgini-text'><a href='https://upgini.com' target='_blank' rel='noopener noreferrer'>Upgini</a></td><td class='upgini-text'><a href='https://upgini.com/#data_sources' target='_blank' rel='noopener noreferrer'>Markets data</a></td><td class='upgini-number'>0.0043</td><td class='upgini-number'>7</td></tr><tr><td class='upgini-text'><a href='https://upgini.com' target='_blank' rel='noopener noreferrer'>Upgini</a></td><td class='upgini-text'><a href='https://upgini.com/#data_sources' target='_blank' rel='noopener noreferrer'>World economic indicators</a></td><td class='upgini-number'>0.0012</td><td class='upgini-number'>5</td></tr><tr><td class='upgini-text'><a href='https://upgini.com' target='_blank' rel='noopener noreferrer'>Upgini</a></td><td class='upgini-text'>AutoFE: features from <a href='https://upgini.com/#data_sources' target='_blank' rel='noopener noreferrer'>Markets data</a></td><td class='upgini-number'>0.0011</td><td class='upgini-number'>3</td></tr><tr><td class='upgini-text'><a href='https://upgini.com' target='_blank' rel='noopener noreferrer'>Upgini</a></td><td class='upgini-text'>AutoFE: feature from <a href='https://upgini.com/#data_sources' target='_blank' rel='noopener noreferrer'>Markets data</a></td><td class='upgini-number'>0.0004</td><td class='upgini-number'>1</td></tr><tr><td class='upgini-text'><a href='https://upgini.com' target='_blank' rel='noopener noreferrer'>Upgini</a></td><td class='upgini-text'><a href='https://upgini.com/#data_sources' target='_blank' rel='noopener noreferrer'>Calendar data</a></td><td class='upgini-number'>0.0002</td><td class='upgini-number'>1</td></tr></tbody></table>\n",
              "        </div>\n",
              "        "
            ]
          },
          "metadata": {}
        },
        {
          "output_type": "stream",
          "name": "stdout",
          "text": [
            "We detected 113 outliers in your sample.\n",
            "Examples of outliers with maximum value of target:\n",
            "84    205\n",
            "47    196\n",
            "38    187\n",
            "Name: target, dtype: int64\n",
            "Outliers will be excluded during the metrics calculation.\n",
            "Before dropping target outliers size: 19000\n",
            "After dropping target outliers size: 18887\n",
            "Calculating accuracy uplift after enrichment...\n",
            "\n",
            "WARNING: y distributions from the training sample and eval_set differ according to the Kolmogorov-Smirnov test,\n",
            "which makes metrics between the train and eval_set incomparable.\n"
          ]
        },
        {
          "output_type": "display_data",
          "data": {
            "text/plain": [
              "<IPython.core.display.HTML object>"
            ],
            "text/html": [
              "<style>\n",
              "            .upgini-df thead th {\n",
              "                font-weight:bold;\n",
              "                text-align: center;\n",
              "                padding: 0.5em;\n",
              "                border-bottom: 2px solid black;\n",
              "            }\n",
              "\n",
              "            .upgini-df tbody td {\n",
              "                padding: 0.5em;\n",
              "            }\n",
              "\n",
              "            .upgini-df tbody tr:nth-child(odd) {\n",
              "                background-color: #ffffff;\n",
              "            }\n",
              "\n",
              "            .upgini-df tbody tr:nth-child(even) {\n",
              "                background-color: #f2f2f2;\n",
              "            }\n",
              "\n",
              "            .upgini-text {\n",
              "                text-align: left;\n",
              "            }\n",
              "\n",
              "            .upgini-number {\n",
              "                text-align: center;\n",
              "            }\n",
              "        </style>\n",
              "        <h2>Accuracy after enrichment</h2>\n",
              "        <div style=\"display:flex; flex-direction:column; align-items:flex-end; width: fit-content;\">\n",
              "            <div style=\"text-align: right\">\n",
              "                <button onclick=navigator.clipboard.writeText(decodeURI('Dataset%20type%09Rows%09Mean%20target%09Baseline%20mean_squared_error%09Enriched%20mean_squared_error%09Uplift%0ATrain%0915148%0949.9541%09309.990497597177%09190.28338678245618%09119.70711081472083%0AEval%201%093739%0958.0011%09509.289739990199%09387.32578424925657%09121.96395574094242%0A'))>📂 Copy</button>\n",
              "                <a href='mailto:<Share with...>?subject=Relevant external data sources from Upgini.com&body=Dataset%20type%09Rows%09Mean%20target%09Baseline%20mean_squared_error%09Enriched%20mean_squared_error%09Uplift%0ATrain%0915148%0949.9541%09309.990497597177%09190.28338678245618%09119.70711081472083%0AEval%201%093739%0958.0011%09509.289739990199%09387.32578424925657%09121.96395574094242%0A'>\n",
              "                    <button>📨 Share</button>\n",
              "                </a>\n",
              "            </div>\n",
              "            <table class='upgini-df'><thead><th>Dataset type</th><th>Rows</th><th>Mean target</th><th>Baseline mean_squared_error</th><th>Enriched mean_squared_error</th><th>Uplift</th></thead><tbody><tr><td class='upgini-text'>Train</td><td class='upgini-number'>15148</td><td class='upgini-number'>49.9541</td><td class='upgini-number'>309.9905</td><td class='upgini-number'>190.2834</td><td class='upgini-number'>119.7071</td></tr><tr><td class='upgini-text'>Eval 1</td><td class='upgini-number'>3739</td><td class='upgini-number'>58.0011</td><td class='upgini-number'>509.2897</td><td class='upgini-number'>387.3258</td><td class='upgini-number'>121.9640</td></tr></tbody></table>\n",
              "        </div>\n",
              "        "
            ]
          },
          "metadata": {}
        },
        {
          "output_type": "display_data",
          "data": {
            "text/plain": [
              "<IPython.core.display.HTML object>"
            ],
            "text/html": [
              "<a download=\"upgini-report-612817f7-75bb-4736-a5b2-f03318b6046f.pdf\" href=\"data:application/pdf;base64,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\" target=\"_blank\">\n",
              "        <button>📊 Download PDF report</button></a>"
            ]
          },
          "metadata": {}
        }
      ]
    },
    {
      "cell_type": "code",
      "source": [
        "from catboost import CatBoostRegressor\n",
        "from catboost.utils import eval_metric\n",
        "\n",
        "model = CatBoostRegressor(verbose = False, allow_writing_files = False, random_state = 0)\n",
        "\n",
        "enricher.calculate_metrics(\n",
        "    train_features, train_target,\n",
        "    eval_set = [(test_features, test_target)],\n",
        "    estimator = model,\n",
        "    scoring = \"mean_absolute_percentage_error\"\n",
        "\n",
        "    )"
      ],
      "metadata": {
        "colab": {
          "base_uri": "https://localhost:8080/",
          "height": 181
        },
        "id": "FtIeiFzNMc1e",
        "outputId": "7f49f13b-fe09-41ce-a0f7-203a52904b64"
      },
      "execution_count": 32,
      "outputs": [
        {
          "output_type": "stream",
          "name": "stdout",
          "text": [
            "Calculating accuracy uplift after enrichment...\n",
            "-\r\n",
            "WARNING: y distributions from the training sample and eval_set differ according to the Kolmogorov-Smirnov test,\n",
            "which makes metrics between the train and eval_set incomparable.\n"
          ]
        },
        {
          "output_type": "execute_result",
          "data": {
            "text/plain": [
              "  Dataset type   Rows  Mean target  Baseline mean_absolute_percentage_error  \\\n",
              "0        Train  15148      49.9541                                 0.255035   \n",
              "1       Eval 1   3739      58.0011                                 0.269488   \n",
              "\n",
              "   Enriched mean_absolute_percentage_error    Uplift  \n",
              "0                                 0.156914  0.098122  \n",
              "1                                 0.198606  0.070883  "
            ],
            "text/html": [
              "\n",
              "  <div id=\"df-94864fe8-0de2-46c8-8d09-446bd9cd6db4\" class=\"colab-df-container\">\n",
              "    <div>\n",
              "<style scoped>\n",
              "    .dataframe tbody tr th:only-of-type {\n",
              "        vertical-align: middle;\n",
              "    }\n",
              "\n",
              "    .dataframe tbody tr th {\n",
              "        vertical-align: top;\n",
              "    }\n",
              "\n",
              "    .dataframe thead th {\n",
              "        text-align: right;\n",
              "    }\n",
              "</style>\n",
              "<table border=\"1\" class=\"dataframe\">\n",
              "  <thead>\n",
              "    <tr style=\"text-align: right;\">\n",
              "      <th></th>\n",
              "      <th>Dataset type</th>\n",
              "      <th>Rows</th>\n",
              "      <th>Mean target</th>\n",
              "      <th>Baseline mean_absolute_percentage_error</th>\n",
              "      <th>Enriched mean_absolute_percentage_error</th>\n",
              "      <th>Uplift</th>\n",
              "    </tr>\n",
              "  </thead>\n",
              "  <tbody>\n",
              "    <tr>\n",
              "      <th>0</th>\n",
              "      <td>Train</td>\n",
              "      <td>15148</td>\n",
              "      <td>49.9541</td>\n",
              "      <td>0.255035</td>\n",
              "      <td>0.156914</td>\n",
              "      <td>0.098122</td>\n",
              "    </tr>\n",
              "    <tr>\n",
              "      <th>1</th>\n",
              "      <td>Eval 1</td>\n",
              "      <td>3739</td>\n",
              "      <td>58.0011</td>\n",
              "      <td>0.269488</td>\n",
              "      <td>0.198606</td>\n",
              "      <td>0.070883</td>\n",
              "    </tr>\n",
              "  </tbody>\n",
              "</table>\n",
              "</div>\n",
              "    <div class=\"colab-df-buttons\">\n",
              "\n",
              "  <div class=\"colab-df-container\">\n",
              "    <button class=\"colab-df-convert\" onclick=\"convertToInteractive('df-94864fe8-0de2-46c8-8d09-446bd9cd6db4')\"\n",
              "            title=\"Convert this dataframe to an interactive table.\"\n",
              "            style=\"display:none;\">\n",
              "\n",
              "  <svg xmlns=\"http://www.w3.org/2000/svg\" height=\"24px\" viewBox=\"0 -960 960 960\">\n",
              "    <path d=\"M120-120v-720h720v720H120Zm60-500h600v-160H180v160Zm220 220h160v-160H400v160Zm0 220h160v-160H400v160ZM180-400h160v-160H180v160Zm440 0h160v-160H620v160ZM180-180h160v-160H180v160Zm440 0h160v-160H620v160Z\"/>\n",
              "  </svg>\n",
              "    </button>\n",
              "\n",
              "  <style>\n",
              "    .colab-df-container {\n",
              "      display:flex;\n",
              "      gap: 12px;\n",
              "    }\n",
              "\n",
              "    .colab-df-convert {\n",
              "      background-color: #E8F0FE;\n",
              "      border: none;\n",
              "      border-radius: 50%;\n",
              "      cursor: pointer;\n",
              "      display: none;\n",
              "      fill: #1967D2;\n",
              "      height: 32px;\n",
              "      padding: 0 0 0 0;\n",
              "      width: 32px;\n",
              "    }\n",
              "\n",
              "    .colab-df-convert:hover {\n",
              "      background-color: #E2EBFA;\n",
              "      box-shadow: 0px 1px 2px rgba(60, 64, 67, 0.3), 0px 1px 3px 1px rgba(60, 64, 67, 0.15);\n",
              "      fill: #174EA6;\n",
              "    }\n",
              "\n",
              "    .colab-df-buttons div {\n",
              "      margin-bottom: 4px;\n",
              "    }\n",
              "\n",
              "    [theme=dark] .colab-df-convert {\n",
              "      background-color: #3B4455;\n",
              "      fill: #D2E3FC;\n",
              "    }\n",
              "\n",
              "    [theme=dark] .colab-df-convert:hover {\n",
              "      background-color: #434B5C;\n",
              "      box-shadow: 0px 1px 3px 1px rgba(0, 0, 0, 0.15);\n",
              "      filter: drop-shadow(0px 1px 2px rgba(0, 0, 0, 0.3));\n",
              "      fill: #FFFFFF;\n",
              "    }\n",
              "  </style>\n",
              "\n",
              "    <script>\n",
              "      const buttonEl =\n",
              "        document.querySelector('#df-94864fe8-0de2-46c8-8d09-446bd9cd6db4 button.colab-df-convert');\n",
              "      buttonEl.style.display =\n",
              "        google.colab.kernel.accessAllowed ? 'block' : 'none';\n",
              "\n",
              "      async function convertToInteractive(key) {\n",
              "        const element = document.querySelector('#df-94864fe8-0de2-46c8-8d09-446bd9cd6db4');\n",
              "        const dataTable =\n",
              "          await google.colab.kernel.invokeFunction('convertToInteractive',\n",
              "                                                    [key], {});\n",
              "        if (!dataTable) return;\n",
              "\n",
              "        const docLinkHtml = 'Like what you see? Visit the ' +\n",
              "          '<a target=\"_blank\" href=https://colab.research.google.com/notebooks/data_table.ipynb>data table notebook</a>'\n",
              "          + ' to learn more about interactive tables.';\n",
              "        element.innerHTML = '';\n",
              "        dataTable['output_type'] = 'display_data';\n",
              "        await google.colab.output.renderOutput(dataTable, element);\n",
              "        const docLink = document.createElement('div');\n",
              "        docLink.innerHTML = docLinkHtml;\n",
              "        element.appendChild(docLink);\n",
              "      }\n",
              "    </script>\n",
              "  </div>\n",
              "\n",
              "\n",
              "<div id=\"df-dcd9d8ec-9e8d-49f4-8d1a-a67fbe2efc75\">\n",
              "  <button class=\"colab-df-quickchart\" onclick=\"quickchart('df-dcd9d8ec-9e8d-49f4-8d1a-a67fbe2efc75')\"\n",
              "            title=\"Suggest charts.\"\n",
              "            style=\"display:none;\">\n",
              "\n",
              "<svg xmlns=\"http://www.w3.org/2000/svg\" height=\"24px\"viewBox=\"0 0 24 24\"\n",
              "     width=\"24px\">\n",
              "    <g>\n",
              "        <path d=\"M19 3H5c-1.1 0-2 .9-2 2v14c0 1.1.9 2 2 2h14c1.1 0 2-.9 2-2V5c0-1.1-.9-2-2-2zM9 17H7v-7h2v7zm4 0h-2V7h2v10zm4 0h-2v-4h2v4z\"/>\n",
              "    </g>\n",
              "</svg>\n",
              "  </button>\n",
              "\n",
              "<style>\n",
              "  .colab-df-quickchart {\n",
              "      --bg-color: #E8F0FE;\n",
              "      --fill-color: #1967D2;\n",
              "      --hover-bg-color: #E2EBFA;\n",
              "      --hover-fill-color: #174EA6;\n",
              "      --disabled-fill-color: #AAA;\n",
              "      --disabled-bg-color: #DDD;\n",
              "  }\n",
              "\n",
              "  [theme=dark] .colab-df-quickchart {\n",
              "      --bg-color: #3B4455;\n",
              "      --fill-color: #D2E3FC;\n",
              "      --hover-bg-color: #434B5C;\n",
              "      --hover-fill-color: #FFFFFF;\n",
              "      --disabled-bg-color: #3B4455;\n",
              "      --disabled-fill-color: #666;\n",
              "  }\n",
              "\n",
              "  .colab-df-quickchart {\n",
              "    background-color: var(--bg-color);\n",
              "    border: none;\n",
              "    border-radius: 50%;\n",
              "    cursor: pointer;\n",
              "    display: none;\n",
              "    fill: var(--fill-color);\n",
              "    height: 32px;\n",
              "    padding: 0;\n",
              "    width: 32px;\n",
              "  }\n",
              "\n",
              "  .colab-df-quickchart:hover {\n",
              "    background-color: var(--hover-bg-color);\n",
              "    box-shadow: 0 1px 2px rgba(60, 64, 67, 0.3), 0 1px 3px 1px rgba(60, 64, 67, 0.15);\n",
              "    fill: var(--button-hover-fill-color);\n",
              "  }\n",
              "\n",
              "  .colab-df-quickchart-complete:disabled,\n",
              "  .colab-df-quickchart-complete:disabled:hover {\n",
              "    background-color: var(--disabled-bg-color);\n",
              "    fill: var(--disabled-fill-color);\n",
              "    box-shadow: none;\n",
              "  }\n",
              "\n",
              "  .colab-df-spinner {\n",
              "    border: 2px solid var(--fill-color);\n",
              "    border-color: transparent;\n",
              "    border-bottom-color: var(--fill-color);\n",
              "    animation:\n",
              "      spin 1s steps(1) infinite;\n",
              "  }\n",
              "\n",
              "  @keyframes spin {\n",
              "    0% {\n",
              "      border-color: transparent;\n",
              "      border-bottom-color: var(--fill-color);\n",
              "      border-left-color: var(--fill-color);\n",
              "    }\n",
              "    20% {\n",
              "      border-color: transparent;\n",
              "      border-left-color: var(--fill-color);\n",
              "      border-top-color: var(--fill-color);\n",
              "    }\n",
              "    30% {\n",
              "      border-color: transparent;\n",
              "      border-left-color: var(--fill-color);\n",
              "      border-top-color: var(--fill-color);\n",
              "      border-right-color: var(--fill-color);\n",
              "    }\n",
              "    40% {\n",
              "      border-color: transparent;\n",
              "      border-right-color: var(--fill-color);\n",
              "      border-top-color: var(--fill-color);\n",
              "    }\n",
              "    60% {\n",
              "      border-color: transparent;\n",
              "      border-right-color: var(--fill-color);\n",
              "    }\n",
              "    80% {\n",
              "      border-color: transparent;\n",
              "      border-right-color: var(--fill-color);\n",
              "      border-bottom-color: var(--fill-color);\n",
              "    }\n",
              "    90% {\n",
              "      border-color: transparent;\n",
              "      border-bottom-color: var(--fill-color);\n",
              "    }\n",
              "  }\n",
              "</style>\n",
              "\n",
              "  <script>\n",
              "    async function quickchart(key) {\n",
              "      const quickchartButtonEl =\n",
              "        document.querySelector('#' + key + ' button');\n",
              "      quickchartButtonEl.disabled = true;  // To prevent multiple clicks.\n",
              "      quickchartButtonEl.classList.add('colab-df-spinner');\n",
              "      try {\n",
              "        const charts = await google.colab.kernel.invokeFunction(\n",
              "            'suggestCharts', [key], {});\n",
              "      } catch (error) {\n",
              "        console.error('Error during call to suggestCharts:', error);\n",
              "      }\n",
              "      quickchartButtonEl.classList.remove('colab-df-spinner');\n",
              "      quickchartButtonEl.classList.add('colab-df-quickchart-complete');\n",
              "    }\n",
              "    (() => {\n",
              "      let quickchartButtonEl =\n",
              "        document.querySelector('#df-dcd9d8ec-9e8d-49f4-8d1a-a67fbe2efc75 button');\n",
              "      quickchartButtonEl.style.display =\n",
              "        google.colab.kernel.accessAllowed ? 'block' : 'none';\n",
              "    })();\n",
              "  </script>\n",
              "</div>\n",
              "    </div>\n",
              "  </div>\n"
            ]
          },
          "metadata": {},
          "execution_count": 32
        }
      ]
    },
    {
      "cell_type": "code",
      "source": [
        "enriched_train_features = enricher.transform(train_features, keep_input = True)\n",
        "enriched_test_features = enricher.transform(test_features, keep_input = True)\n",
        "#enriched_train_features.head()"
      ],
      "metadata": {
        "id": "5IErpBfhPoBV",
        "colab": {
          "base_uri": "https://localhost:8080/",
          "height": 337,
          "referenced_widgets": [
            "32de2de81a0943f591649f799bc0dde5",
            "0f0b810e9a53499391cfd27c7a095f40",
            "0c0531f729774f408879314f4fe708ae"
          ]
        },
        "outputId": "8e226158-dbf4-46d1-f813-46cb6b3aae01"
      },
      "execution_count": 33,
      "outputs": [
        {
          "output_type": "display_data",
          "data": {
            "text/plain": [
              "[                                                            ] 0% Checking dataset..."
            ],
            "text/html": [
              "<progress style='width:60ex' max='100' value='0'></progress>  0% Checking dataset...</br>"
            ]
          },
          "metadata": {}
        },
        {
          "output_type": "stream",
          "name": "stdout",
          "text": [
            "You are trying to launch enrichment for 15213 rows, which will exceed the rest limit 9270.\n"
          ]
        },
        {
          "output_type": "display_data",
          "data": {
            "text/plain": [
              "Button(button_style='danger', description='Request a quote', style=ButtonStyle())"
            ],
            "application/vnd.jupyter.widget-view+json": {
              "version_major": 2,
              "version_minor": 0,
              "model_id": "32de2de81a0943f591649f799bc0dde5"
            }
          },
          "metadata": {}
        },
        {
          "output_type": "display_data",
          "data": {
            "text/plain": [
              "[============================================================] 100% Finished"
            ],
            "text/html": [
              "<progress style='width:60ex' max='100' value='100'></progress>  100% Finished</br>"
            ]
          },
          "metadata": {}
        },
        {
          "output_type": "stream",
          "name": "stdout",
          "text": [
            "You use Trial access to Upgini data enrichment. Limit for Trial: 10000 rows. You have already enriched: 730 rows.\n",
            "\n",
            "WARNING: Search started with DATE search key only\n",
            "Try to add other keys like the COUNTRY, POSTAL_CODE, PHONE NUMBER, EMAIL/HEM, IPv4 to your training dataset\n",
            "for search through all the available data sources.\n",
            "See docs https://github.com/upgini/upgini#-total-239-countries-and-up-to-41-years-of-history\n"
          ]
        },
        {
          "output_type": "display_data",
          "data": {
            "text/plain": [
              "<IPython.core.display.HTML object>"
            ],
            "text/html": [
              "<table><tr><th style='font-weight:bold'>Column name</th><th style='font-weight:bold'>Status</th><th style='font-weight:bold'>Errors</th></tr><tr><td>date</td><td style='background-color:#DAF7A6;color:black'>All valid</td><td>-</td></tr></table>"
            ]
          },
          "metadata": {}
        },
        {
          "output_type": "stream",
          "name": "stdout",
          "text": [
            "\n",
            "Running search request, search_id=5079538a-b9ba-498b-bf99-5baa5a4920b2\n",
            "We'll send email notification once it's completed, just use your personal api_key from profile.upgini.com\n",
            "\n",
            "Retrieving selected features from data sources...\n"
          ]
        },
        {
          "output_type": "display_data",
          "data": {
            "text/plain": [
              "<IPython.core.display.Javascript object>"
            ],
            "application/javascript": [
              "window.open(\"https://upgini.com/requet-a-quote\");"
            ]
          },
          "metadata": {}
        }
      ]
    },
    {
      "cell_type": "code",
      "source": [
        "model.fit(train_features, train_target)\n",
        "preds = model.predict(test_features)\n",
        "eval_metric(test_target.values, preds, \"SMAPE\")"
      ],
      "metadata": {
        "colab": {
          "base_uri": "https://localhost:8080/"
        },
        "id": "tYRyVE4-QkXP",
        "outputId": "0cf1e2ef-ccca-4c38-ad6b-059831ce0403"
      },
      "execution_count": null,
      "outputs": [
        {
          "output_type": "execute_result",
          "data": {
            "text/plain": [
              "[37.65141857448004]"
            ]
          },
          "metadata": {},
          "execution_count": 23
        }
      ]
    },
    {
      "cell_type": "code",
      "source": [
        "model.fit(enriched_train_features, train_target)\n",
        "enriched_preds = model.predict(enriched_test_features)\n",
        "eval_metric(test_target.values, enriched_preds, \"SMAPE\")"
      ],
      "metadata": {
        "colab": {
          "base_uri": "https://localhost:8080/",
          "height": 408
        },
        "id": "uUNNOfuiSrXF",
        "outputId": "09dac9fb-6fbe-4f02-e5ee-b7605a7678c1"
      },
      "execution_count": null,
      "outputs": [
        {
          "output_type": "error",
          "ename": "CatBoostError",
          "evalue": "ignored",
          "traceback": [
            "\u001b[0;31m---------------------------------------------------------------------------\u001b[0m",
            "\u001b[0;31mCatBoostError\u001b[0m                             Traceback (most recent call last)",
            "\u001b[0;32m<ipython-input-24-fa7ae0b03aff>\u001b[0m in \u001b[0;36m<cell line: 1>\u001b[0;34m()\u001b[0m\n\u001b[0;32m----> 1\u001b[0;31m \u001b[0mmodel\u001b[0m\u001b[0;34m.\u001b[0m\u001b[0mfit\u001b[0m\u001b[0;34m(\u001b[0m\u001b[0menriched_train_features\u001b[0m\u001b[0;34m,\u001b[0m \u001b[0mtrain_target\u001b[0m\u001b[0;34m)\u001b[0m\u001b[0;34m\u001b[0m\u001b[0;34m\u001b[0m\u001b[0m\n\u001b[0m\u001b[1;32m      2\u001b[0m \u001b[0menriched_preds\u001b[0m \u001b[0;34m=\u001b[0m \u001b[0mmodel\u001b[0m\u001b[0;34m.\u001b[0m\u001b[0mpredict\u001b[0m\u001b[0;34m(\u001b[0m\u001b[0menriched_test_features\u001b[0m\u001b[0;34m)\u001b[0m\u001b[0;34m\u001b[0m\u001b[0;34m\u001b[0m\u001b[0m\n\u001b[1;32m      3\u001b[0m \u001b[0meval_metric\u001b[0m\u001b[0;34m(\u001b[0m\u001b[0mtest_target\u001b[0m\u001b[0;34m.\u001b[0m\u001b[0mvalues\u001b[0m\u001b[0;34m,\u001b[0m \u001b[0menriched_preds\u001b[0m\u001b[0;34m,\u001b[0m \u001b[0;34m\"SMAPE\"\u001b[0m\u001b[0;34m)\u001b[0m\u001b[0;34m\u001b[0m\u001b[0;34m\u001b[0m\u001b[0m\n",
            "\u001b[0;32m/usr/local/lib/python3.10/dist-packages/catboost/core.py\u001b[0m in \u001b[0;36mfit\u001b[0;34m(self, X, y, cat_features, text_features, embedding_features, sample_weight, baseline, use_best_model, eval_set, verbose, logging_level, plot, plot_file, column_description, verbose_eval, metric_period, silent, early_stopping_rounds, save_snapshot, snapshot_file, snapshot_interval, init_model, callbacks, log_cout, log_cerr)\u001b[0m\n\u001b[1;32m   5701\u001b[0m             \u001b[0mCatBoostRegressor\u001b[0m\u001b[0;34m.\u001b[0m\u001b[0m_check_is_compatible_loss\u001b[0m\u001b[0;34m(\u001b[0m\u001b[0mparams\u001b[0m\u001b[0;34m[\u001b[0m\u001b[0;34m'loss_function'\u001b[0m\u001b[0;34m]\u001b[0m\u001b[0;34m)\u001b[0m\u001b[0;34m\u001b[0m\u001b[0;34m\u001b[0m\u001b[0m\n\u001b[1;32m   5702\u001b[0m \u001b[0;34m\u001b[0m\u001b[0m\n\u001b[0;32m-> 5703\u001b[0;31m         return self._fit(X, y, cat_features, text_features, embedding_features, None, sample_weight, None, None, None, None, baseline,\n\u001b[0m\u001b[1;32m   5704\u001b[0m                          \u001b[0muse_best_model\u001b[0m\u001b[0;34m,\u001b[0m \u001b[0meval_set\u001b[0m\u001b[0;34m,\u001b[0m \u001b[0mverbose\u001b[0m\u001b[0;34m,\u001b[0m \u001b[0mlogging_level\u001b[0m\u001b[0;34m,\u001b[0m \u001b[0mplot\u001b[0m\u001b[0;34m,\u001b[0m \u001b[0mplot_file\u001b[0m\u001b[0;34m,\u001b[0m \u001b[0mcolumn_description\u001b[0m\u001b[0;34m,\u001b[0m\u001b[0;34m\u001b[0m\u001b[0;34m\u001b[0m\u001b[0m\n\u001b[1;32m   5705\u001b[0m                          \u001b[0mverbose_eval\u001b[0m\u001b[0;34m,\u001b[0m \u001b[0mmetric_period\u001b[0m\u001b[0;34m,\u001b[0m \u001b[0msilent\u001b[0m\u001b[0;34m,\u001b[0m \u001b[0mearly_stopping_rounds\u001b[0m\u001b[0;34m,\u001b[0m\u001b[0;34m\u001b[0m\u001b[0;34m\u001b[0m\u001b[0m\n",
            "\u001b[0;32m/usr/local/lib/python3.10/dist-packages/catboost/core.py\u001b[0m in \u001b[0;36m_fit\u001b[0;34m(self, X, y, cat_features, text_features, embedding_features, pairs, sample_weight, group_id, group_weight, subgroup_id, pairs_weight, baseline, use_best_model, eval_set, verbose, logging_level, plot, plot_file, column_description, verbose_eval, metric_period, silent, early_stopping_rounds, save_snapshot, snapshot_file, snapshot_interval, init_model, callbacks, log_cout, log_cerr)\u001b[0m\n\u001b[1;32m   2296\u001b[0m \u001b[0;34m\u001b[0m\u001b[0m\n\u001b[1;32m   2297\u001b[0m         \u001b[0;32mif\u001b[0m \u001b[0mX\u001b[0m \u001b[0;32mis\u001b[0m \u001b[0;32mNone\u001b[0m\u001b[0;34m:\u001b[0m\u001b[0;34m\u001b[0m\u001b[0;34m\u001b[0m\u001b[0m\n\u001b[0;32m-> 2298\u001b[0;31m             \u001b[0;32mraise\u001b[0m \u001b[0mCatBoostError\u001b[0m\u001b[0;34m(\u001b[0m\u001b[0;34m\"X must not be None\"\u001b[0m\u001b[0;34m)\u001b[0m\u001b[0;34m\u001b[0m\u001b[0;34m\u001b[0m\u001b[0m\n\u001b[0m\u001b[1;32m   2299\u001b[0m \u001b[0;34m\u001b[0m\u001b[0m\n\u001b[1;32m   2300\u001b[0m         \u001b[0;32mif\u001b[0m \u001b[0my\u001b[0m \u001b[0;32mis\u001b[0m \u001b[0;32mNone\u001b[0m \u001b[0;32mand\u001b[0m \u001b[0;32mnot\u001b[0m \u001b[0misinstance\u001b[0m\u001b[0;34m(\u001b[0m\u001b[0mX\u001b[0m\u001b[0;34m,\u001b[0m \u001b[0mPATH_TYPES\u001b[0m \u001b[0;34m+\u001b[0m \u001b[0;34m(\u001b[0m\u001b[0mPool\u001b[0m\u001b[0;34m,\u001b[0m\u001b[0;34m)\u001b[0m\u001b[0;34m)\u001b[0m\u001b[0;34m:\u001b[0m\u001b[0;34m\u001b[0m\u001b[0;34m\u001b[0m\u001b[0m\n",
            "\u001b[0;31mCatBoostError\u001b[0m: X must not be None"
          ]
        }
      ]
    }
  ]
}